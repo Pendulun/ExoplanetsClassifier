{
 "cells": [
  {
   "cell_type": "markdown",
   "metadata": {},
   "source": [
    "# Exoplanets Classifiers\n",
    "\n",
    "Aluno: Daniel Souza de Campos\n",
    "\n",
    "Esse é um trabalho para a matéria de ML na UFMG cujo objetivo é utilizar e avaliar vários modelos de classificação em cima de um dataset de exoplanetas.\n",
    "\n",
    "O trabalho ficará disponível publicamente no meu [GitHub](https://github.com/Pendulun/ExoplanetsClassifier) após a data final de entrega do trabalho dia 10/06/2022."
   ]
  },
  {
   "cell_type": "code",
   "execution_count": 56,
   "metadata": {},
   "outputs": [],
   "source": [
    "import matplotlib.pyplot as plt\n",
    "%matplotlib inline\n",
    "import pandas as pd\n",
    "GLOBAL_RANDOM_STATE = 42"
   ]
  },
  {
   "cell_type": "markdown",
   "metadata": {},
   "source": [
    "# Carregando o dataset"
   ]
  },
  {
   "cell_type": "code",
   "execution_count": 57,
   "metadata": {},
   "outputs": [],
   "source": [
    "koiDf = pd.read_csv(\"koi_data.csv\")"
   ]
  },
  {
   "cell_type": "code",
   "execution_count": 58,
   "metadata": {},
   "outputs": [
    {
     "data": {
      "text/html": [
       "<div>\n",
       "<style scoped>\n",
       "    .dataframe tbody tr th:only-of-type {\n",
       "        vertical-align: middle;\n",
       "    }\n",
       "\n",
       "    .dataframe tbody tr th {\n",
       "        vertical-align: top;\n",
       "    }\n",
       "\n",
       "    .dataframe thead th {\n",
       "        text-align: right;\n",
       "    }\n",
       "</style>\n",
       "<table border=\"1\" class=\"dataframe\">\n",
       "  <thead>\n",
       "    <tr style=\"text-align: right;\">\n",
       "      <th></th>\n",
       "      <th>kepoi_name</th>\n",
       "      <th>koi_disposition</th>\n",
       "      <th>koi_period</th>\n",
       "      <th>koi_impact</th>\n",
       "      <th>koi_duration</th>\n",
       "      <th>koi_depth</th>\n",
       "      <th>koi_ror</th>\n",
       "      <th>koi_srho</th>\n",
       "      <th>koi_prad</th>\n",
       "      <th>koi_sma</th>\n",
       "      <th>...</th>\n",
       "      <th>koi_fwm_srao</th>\n",
       "      <th>koi_fwm_sdeco</th>\n",
       "      <th>koi_fwm_prao</th>\n",
       "      <th>koi_fwm_pdeco</th>\n",
       "      <th>koi_dicco_mra</th>\n",
       "      <th>koi_dicco_mdec</th>\n",
       "      <th>koi_dicco_msky</th>\n",
       "      <th>koi_dikco_mra</th>\n",
       "      <th>koi_dikco_mdec</th>\n",
       "      <th>koi_dikco_msky</th>\n",
       "    </tr>\n",
       "  </thead>\n",
       "  <tbody>\n",
       "    <tr>\n",
       "      <th>0</th>\n",
       "      <td>K00752.01</td>\n",
       "      <td>CONFIRMED</td>\n",
       "      <td>9.48804</td>\n",
       "      <td>0.146</td>\n",
       "      <td>2.95750</td>\n",
       "      <td>615.8</td>\n",
       "      <td>0.02234</td>\n",
       "      <td>3.20796</td>\n",
       "      <td>2.26</td>\n",
       "      <td>0.0853</td>\n",
       "      <td>...</td>\n",
       "      <td>0.430</td>\n",
       "      <td>0.940</td>\n",
       "      <td>-0.00020</td>\n",
       "      <td>-0.00055</td>\n",
       "      <td>-0.010</td>\n",
       "      <td>0.200</td>\n",
       "      <td>0.200</td>\n",
       "      <td>0.080</td>\n",
       "      <td>0.310</td>\n",
       "      <td>0.320</td>\n",
       "    </tr>\n",
       "    <tr>\n",
       "      <th>1</th>\n",
       "      <td>K00752.02</td>\n",
       "      <td>CONFIRMED</td>\n",
       "      <td>54.41838</td>\n",
       "      <td>0.586</td>\n",
       "      <td>4.50700</td>\n",
       "      <td>874.8</td>\n",
       "      <td>0.02795</td>\n",
       "      <td>3.02368</td>\n",
       "      <td>2.83</td>\n",
       "      <td>0.2734</td>\n",
       "      <td>...</td>\n",
       "      <td>-0.630</td>\n",
       "      <td>1.230</td>\n",
       "      <td>0.00066</td>\n",
       "      <td>-0.00105</td>\n",
       "      <td>0.390</td>\n",
       "      <td>0.000</td>\n",
       "      <td>0.390</td>\n",
       "      <td>0.490</td>\n",
       "      <td>0.120</td>\n",
       "      <td>0.500</td>\n",
       "    </tr>\n",
       "    <tr>\n",
       "      <th>2</th>\n",
       "      <td>K00754.01</td>\n",
       "      <td>FALSE POSITIVE</td>\n",
       "      <td>1.73695</td>\n",
       "      <td>1.276</td>\n",
       "      <td>2.40641</td>\n",
       "      <td>8079.2</td>\n",
       "      <td>0.38739</td>\n",
       "      <td>0.22080</td>\n",
       "      <td>33.46</td>\n",
       "      <td>0.0267</td>\n",
       "      <td>...</td>\n",
       "      <td>-0.111</td>\n",
       "      <td>0.002</td>\n",
       "      <td>0.00302</td>\n",
       "      <td>-0.00142</td>\n",
       "      <td>-0.249</td>\n",
       "      <td>0.147</td>\n",
       "      <td>0.289</td>\n",
       "      <td>-0.257</td>\n",
       "      <td>0.099</td>\n",
       "      <td>0.276</td>\n",
       "    </tr>\n",
       "    <tr>\n",
       "      <th>3</th>\n",
       "      <td>K00755.01</td>\n",
       "      <td>CONFIRMED</td>\n",
       "      <td>2.52559</td>\n",
       "      <td>0.701</td>\n",
       "      <td>1.65450</td>\n",
       "      <td>603.3</td>\n",
       "      <td>0.02406</td>\n",
       "      <td>1.98635</td>\n",
       "      <td>2.75</td>\n",
       "      <td>0.0374</td>\n",
       "      <td>...</td>\n",
       "      <td>-0.010</td>\n",
       "      <td>0.230</td>\n",
       "      <td>0.00008</td>\n",
       "      <td>-0.00007</td>\n",
       "      <td>0.030</td>\n",
       "      <td>-0.090</td>\n",
       "      <td>0.100</td>\n",
       "      <td>0.070</td>\n",
       "      <td>0.020</td>\n",
       "      <td>0.070</td>\n",
       "    </tr>\n",
       "    <tr>\n",
       "      <th>4</th>\n",
       "      <td>K00114.01</td>\n",
       "      <td>FALSE POSITIVE</td>\n",
       "      <td>7.36179</td>\n",
       "      <td>1.169</td>\n",
       "      <td>5.02200</td>\n",
       "      <td>233.7</td>\n",
       "      <td>0.18339</td>\n",
       "      <td>0.00485</td>\n",
       "      <td>39.21</td>\n",
       "      <td>0.0820</td>\n",
       "      <td>...</td>\n",
       "      <td>-13.450</td>\n",
       "      <td>24.090</td>\n",
       "      <td>0.00303</td>\n",
       "      <td>-0.00555</td>\n",
       "      <td>-4.506</td>\n",
       "      <td>7.710</td>\n",
       "      <td>8.930</td>\n",
       "      <td>-4.537</td>\n",
       "      <td>7.713</td>\n",
       "      <td>8.948</td>\n",
       "    </tr>\n",
       "  </tbody>\n",
       "</table>\n",
       "<p>5 rows × 43 columns</p>\n",
       "</div>"
      ],
      "text/plain": [
       "  kepoi_name koi_disposition  koi_period  koi_impact  koi_duration  koi_depth  \\\n",
       "0  K00752.01       CONFIRMED     9.48804       0.146       2.95750      615.8   \n",
       "1  K00752.02       CONFIRMED    54.41838       0.586       4.50700      874.8   \n",
       "2  K00754.01  FALSE POSITIVE     1.73695       1.276       2.40641     8079.2   \n",
       "3  K00755.01       CONFIRMED     2.52559       0.701       1.65450      603.3   \n",
       "4  K00114.01  FALSE POSITIVE     7.36179       1.169       5.02200      233.7   \n",
       "\n",
       "   koi_ror  koi_srho  koi_prad  koi_sma  ...  koi_fwm_srao  koi_fwm_sdeco  \\\n",
       "0  0.02234   3.20796      2.26   0.0853  ...         0.430          0.940   \n",
       "1  0.02795   3.02368      2.83   0.2734  ...        -0.630          1.230   \n",
       "2  0.38739   0.22080     33.46   0.0267  ...        -0.111          0.002   \n",
       "3  0.02406   1.98635      2.75   0.0374  ...        -0.010          0.230   \n",
       "4  0.18339   0.00485     39.21   0.0820  ...       -13.450         24.090   \n",
       "\n",
       "   koi_fwm_prao  koi_fwm_pdeco  koi_dicco_mra  koi_dicco_mdec  koi_dicco_msky  \\\n",
       "0      -0.00020       -0.00055         -0.010           0.200           0.200   \n",
       "1       0.00066       -0.00105          0.390           0.000           0.390   \n",
       "2       0.00302       -0.00142         -0.249           0.147           0.289   \n",
       "3       0.00008       -0.00007          0.030          -0.090           0.100   \n",
       "4       0.00303       -0.00555         -4.506           7.710           8.930   \n",
       "\n",
       "   koi_dikco_mra  koi_dikco_mdec  koi_dikco_msky  \n",
       "0          0.080           0.310           0.320  \n",
       "1          0.490           0.120           0.500  \n",
       "2         -0.257           0.099           0.276  \n",
       "3          0.070           0.020           0.070  \n",
       "4         -4.537           7.713           8.948  \n",
       "\n",
       "[5 rows x 43 columns]"
      ]
     },
     "execution_count": 58,
     "metadata": {},
     "output_type": "execute_result"
    }
   ],
   "source": [
    "koiDf.head(5)"
   ]
  },
  {
   "cell_type": "code",
   "execution_count": 59,
   "metadata": {},
   "outputs": [
    {
     "data": {
      "text/plain": [
       "5202"
      ]
     },
     "execution_count": 59,
     "metadata": {},
     "output_type": "execute_result"
    }
   ],
   "source": [
    "len(koiDf)"
   ]
  },
  {
   "cell_type": "code",
   "execution_count": 60,
   "metadata": {},
   "outputs": [
    {
     "data": {
      "text/plain": [
       "43"
      ]
     },
     "execution_count": 60,
     "metadata": {},
     "output_type": "execute_result"
    }
   ],
   "source": [
    "len(koiDf.columns)"
   ]
  },
  {
   "cell_type": "markdown",
   "metadata": {},
   "source": [
    "# Normalizando os dados"
   ]
  },
  {
   "cell_type": "code",
   "execution_count": 61,
   "metadata": {},
   "outputs": [],
   "source": [
    "from sklearn.preprocessing import StandardScaler"
   ]
  },
  {
   "cell_type": "code",
   "execution_count": 62,
   "metadata": {},
   "outputs": [],
   "source": [
    "scaler = StandardScaler()"
   ]
  },
  {
   "cell_type": "code",
   "execution_count": 63,
   "metadata": {},
   "outputs": [],
   "source": [
    "koiDf[koiDf.columns.difference(['kepoi_name','koi_disposition'], sort=False)] = scaler.fit_transform(\n",
    "                                                koiDf[koiDf.columns.difference(['kepoi_name','koi_disposition'], sort=False)]\n",
    "                                                )"
   ]
  },
  {
   "cell_type": "code",
   "execution_count": 64,
   "metadata": {},
   "outputs": [
    {
     "data": {
      "text/html": [
       "<div>\n",
       "<style scoped>\n",
       "    .dataframe tbody tr th:only-of-type {\n",
       "        vertical-align: middle;\n",
       "    }\n",
       "\n",
       "    .dataframe tbody tr th {\n",
       "        vertical-align: top;\n",
       "    }\n",
       "\n",
       "    .dataframe thead th {\n",
       "        text-align: right;\n",
       "    }\n",
       "</style>\n",
       "<table border=\"1\" class=\"dataframe\">\n",
       "  <thead>\n",
       "    <tr style=\"text-align: right;\">\n",
       "      <th></th>\n",
       "      <th>count</th>\n",
       "      <th>unique</th>\n",
       "      <th>top</th>\n",
       "      <th>freq</th>\n",
       "      <th>mean</th>\n",
       "      <th>std</th>\n",
       "      <th>min</th>\n",
       "      <th>25%</th>\n",
       "      <th>50%</th>\n",
       "      <th>75%</th>\n",
       "      <th>max</th>\n",
       "    </tr>\n",
       "  </thead>\n",
       "  <tbody>\n",
       "    <tr>\n",
       "      <th>kepoi_name</th>\n",
       "      <td>5202</td>\n",
       "      <td>5202</td>\n",
       "      <td>K00752.01</td>\n",
       "      <td>1</td>\n",
       "      <td>NaN</td>\n",
       "      <td>NaN</td>\n",
       "      <td>NaN</td>\n",
       "      <td>NaN</td>\n",
       "      <td>NaN</td>\n",
       "      <td>NaN</td>\n",
       "      <td>NaN</td>\n",
       "    </tr>\n",
       "    <tr>\n",
       "      <th>koi_disposition</th>\n",
       "      <td>5202</td>\n",
       "      <td>2</td>\n",
       "      <td>FALSE POSITIVE</td>\n",
       "      <td>3098</td>\n",
       "      <td>NaN</td>\n",
       "      <td>NaN</td>\n",
       "      <td>NaN</td>\n",
       "      <td>NaN</td>\n",
       "      <td>NaN</td>\n",
       "      <td>NaN</td>\n",
       "      <td>NaN</td>\n",
       "    </tr>\n",
       "    <tr>\n",
       "      <th>koi_period</th>\n",
       "      <td>5202.0</td>\n",
       "      <td>NaN</td>\n",
       "      <td>NaN</td>\n",
       "      <td>NaN</td>\n",
       "      <td>0.0</td>\n",
       "      <td>1.000096</td>\n",
       "      <td>-0.4154</td>\n",
       "      <td>-0.39383</td>\n",
       "      <td>-0.33532</td>\n",
       "      <td>-0.15365</td>\n",
       "      <td>11.697844</td>\n",
       "    </tr>\n",
       "    <tr>\n",
       "      <th>koi_impact</th>\n",
       "      <td>5202.0</td>\n",
       "      <td>NaN</td>\n",
       "      <td>NaN</td>\n",
       "      <td>NaN</td>\n",
       "      <td>-0.0</td>\n",
       "      <td>1.000096</td>\n",
       "      <td>-0.272876</td>\n",
       "      <td>-0.186878</td>\n",
       "      <td>-0.040756</td>\n",
       "      <td>0.078633</td>\n",
       "      <td>38.086232</td>\n",
       "    </tr>\n",
       "    <tr>\n",
       "      <th>koi_duration</th>\n",
       "      <td>5202.0</td>\n",
       "      <td>NaN</td>\n",
       "      <td>NaN</td>\n",
       "      <td>NaN</td>\n",
       "      <td>-0.0</td>\n",
       "      <td>1.000096</td>\n",
       "      <td>-0.790355</td>\n",
       "      <td>-0.44625</td>\n",
       "      <td>-0.258767</td>\n",
       "      <td>0.056554</td>\n",
       "      <td>19.094174</td>\n",
       "    </tr>\n",
       "    <tr>\n",
       "      <th>koi_depth</th>\n",
       "      <td>5202.0</td>\n",
       "      <td>NaN</td>\n",
       "      <td>NaN</td>\n",
       "      <td>NaN</td>\n",
       "      <td>-0.0</td>\n",
       "      <td>1.000096</td>\n",
       "      <td>-0.318579</td>\n",
       "      <td>-0.315952</td>\n",
       "      <td>-0.311187</td>\n",
       "      <td>-0.286934</td>\n",
       "      <td>12.584014</td>\n",
       "    </tr>\n",
       "    <tr>\n",
       "      <th>koi_ror</th>\n",
       "      <td>5202.0</td>\n",
       "      <td>NaN</td>\n",
       "      <td>NaN</td>\n",
       "      <td>NaN</td>\n",
       "      <td>0.0</td>\n",
       "      <td>1.000096</td>\n",
       "      <td>-0.090456</td>\n",
       "      <td>-0.085905</td>\n",
       "      <td>-0.081602</td>\n",
       "      <td>-0.024728</td>\n",
       "      <td>38.52932</td>\n",
       "    </tr>\n",
       "    <tr>\n",
       "      <th>koi_srho</th>\n",
       "      <td>5202.0</td>\n",
       "      <td>NaN</td>\n",
       "      <td>NaN</td>\n",
       "      <td>NaN</td>\n",
       "      <td>0.0</td>\n",
       "      <td>1.000096</td>\n",
       "      <td>-0.135912</td>\n",
       "      <td>-0.128906</td>\n",
       "      <td>-0.106145</td>\n",
       "      <td>-0.045697</td>\n",
       "      <td>36.425594</td>\n",
       "    </tr>\n",
       "    <tr>\n",
       "      <th>koi_prad</th>\n",
       "      <td>5202.0</td>\n",
       "      <td>NaN</td>\n",
       "      <td>NaN</td>\n",
       "      <td>NaN</td>\n",
       "      <td>0.0</td>\n",
       "      <td>1.000096</td>\n",
       "      <td>-0.030316</td>\n",
       "      <td>-0.029943</td>\n",
       "      <td>-0.029634</td>\n",
       "      <td>-0.024486</td>\n",
       "      <td>54.125373</td>\n",
       "    </tr>\n",
       "    <tr>\n",
       "      <th>koi_sma</th>\n",
       "      <td>5202.0</td>\n",
       "      <td>NaN</td>\n",
       "      <td>NaN</td>\n",
       "      <td>NaN</td>\n",
       "      <td>0.0</td>\n",
       "      <td>1.000096</td>\n",
       "      <td>-0.624341</td>\n",
       "      <td>-0.517627</td>\n",
       "      <td>-0.349492</td>\n",
       "      <td>0.000222</td>\n",
       "      <td>7.76093</td>\n",
       "    </tr>\n",
       "    <tr>\n",
       "      <th>koi_incl</th>\n",
       "      <td>5202.0</td>\n",
       "      <td>NaN</td>\n",
       "      <td>NaN</td>\n",
       "      <td>NaN</td>\n",
       "      <td>0.0</td>\n",
       "      <td>1.000096</td>\n",
       "      <td>-4.837806</td>\n",
       "      <td>0.045905</td>\n",
       "      <td>0.411386</td>\n",
       "      <td>0.511342</td>\n",
       "      <td>0.540776</td>\n",
       "    </tr>\n",
       "    <tr>\n",
       "      <th>koi_teq</th>\n",
       "      <td>5202.0</td>\n",
       "      <td>NaN</td>\n",
       "      <td>NaN</td>\n",
       "      <td>NaN</td>\n",
       "      <td>0.0</td>\n",
       "      <td>1.000096</td>\n",
       "      <td>-1.35581</td>\n",
       "      <td>-0.68127</td>\n",
       "      <td>-0.252311</td>\n",
       "      <td>0.436087</td>\n",
       "      <td>11.147505</td>\n",
       "    </tr>\n",
       "    <tr>\n",
       "      <th>koi_insol</th>\n",
       "      <td>5202.0</td>\n",
       "      <td>NaN</td>\n",
       "      <td>NaN</td>\n",
       "      <td>NaN</td>\n",
       "      <td>-0.0</td>\n",
       "      <td>1.000096</td>\n",
       "      <td>-0.099953</td>\n",
       "      <td>-0.099021</td>\n",
       "      <td>-0.094708</td>\n",
       "      <td>-0.068621</td>\n",
       "      <td>59.507653</td>\n",
       "    </tr>\n",
       "    <tr>\n",
       "      <th>koi_dor</th>\n",
       "      <td>5202.0</td>\n",
       "      <td>NaN</td>\n",
       "      <td>NaN</td>\n",
       "      <td>NaN</td>\n",
       "      <td>0.0</td>\n",
       "      <td>1.000096</td>\n",
       "      <td>-0.429283</td>\n",
       "      <td>-0.381524</td>\n",
       "      <td>-0.288348</td>\n",
       "      <td>-0.065144</td>\n",
       "      <td>18.811203</td>\n",
       "    </tr>\n",
       "    <tr>\n",
       "      <th>koi_max_sngle_ev</th>\n",
       "      <td>5202.0</td>\n",
       "      <td>NaN</td>\n",
       "      <td>NaN</td>\n",
       "      <td>NaN</td>\n",
       "      <td>0.0</td>\n",
       "      <td>1.000096</td>\n",
       "      <td>-0.228489</td>\n",
       "      <td>-0.226231</td>\n",
       "      <td>-0.223657</td>\n",
       "      <td>-0.205235</td>\n",
       "      <td>31.21218</td>\n",
       "    </tr>\n",
       "    <tr>\n",
       "      <th>koi_max_mult_ev</th>\n",
       "      <td>5202.0</td>\n",
       "      <td>NaN</td>\n",
       "      <td>NaN</td>\n",
       "      <td>NaN</td>\n",
       "      <td>0.0</td>\n",
       "      <td>1.000096</td>\n",
       "      <td>-0.258283</td>\n",
       "      <td>-0.256684</td>\n",
       "      <td>-0.253542</td>\n",
       "      <td>-0.233561</td>\n",
       "      <td>13.489767</td>\n",
       "    </tr>\n",
       "    <tr>\n",
       "      <th>koi_model_snr</th>\n",
       "      <td>5202.0</td>\n",
       "      <td>NaN</td>\n",
       "      <td>NaN</td>\n",
       "      <td>NaN</td>\n",
       "      <td>0.0</td>\n",
       "      <td>1.000096</td>\n",
       "      <td>-0.356023</td>\n",
       "      <td>-0.335904</td>\n",
       "      <td>-0.316376</td>\n",
       "      <td>-0.222793</td>\n",
       "      <td>10.360033</td>\n",
       "    </tr>\n",
       "    <tr>\n",
       "      <th>koi_steff</th>\n",
       "      <td>5202.0</td>\n",
       "      <td>NaN</td>\n",
       "      <td>NaN</td>\n",
       "      <td>NaN</td>\n",
       "      <td>0.0</td>\n",
       "      <td>1.000096</td>\n",
       "      <td>-3.159113</td>\n",
       "      <td>-0.489088</td>\n",
       "      <td>0.063853</td>\n",
       "      <td>0.494339</td>\n",
       "      <td>12.871133</td>\n",
       "    </tr>\n",
       "    <tr>\n",
       "      <th>koi_slogg</th>\n",
       "      <td>5202.0</td>\n",
       "      <td>NaN</td>\n",
       "      <td>NaN</td>\n",
       "      <td>NaN</td>\n",
       "      <td>0.0</td>\n",
       "      <td>1.000096</td>\n",
       "      <td>-11.046443</td>\n",
       "      <td>-0.206058</td>\n",
       "      <td>0.301924</td>\n",
       "      <td>0.554626</td>\n",
       "      <td>1.931592</td>\n",
       "    </tr>\n",
       "    <tr>\n",
       "      <th>koi_smet</th>\n",
       "      <td>5202.0</td>\n",
       "      <td>NaN</td>\n",
       "      <td>NaN</td>\n",
       "      <td>NaN</td>\n",
       "      <td>0.0</td>\n",
       "      <td>1.000096</td>\n",
       "      <td>-8.29751</td>\n",
       "      <td>-0.538708</td>\n",
       "      <td>0.090384</td>\n",
       "      <td>0.684526</td>\n",
       "      <td>2.397054</td>\n",
       "    </tr>\n",
       "    <tr>\n",
       "      <th>koi_srad</th>\n",
       "      <td>5202.0</td>\n",
       "      <td>NaN</td>\n",
       "      <td>NaN</td>\n",
       "      <td>NaN</td>\n",
       "      <td>0.0</td>\n",
       "      <td>1.000096</td>\n",
       "      <td>-0.376503</td>\n",
       "      <td>-0.190159</td>\n",
       "      <td>-0.142753</td>\n",
       "      <td>-0.052562</td>\n",
       "      <td>48.080233</td>\n",
       "    </tr>\n",
       "    <tr>\n",
       "      <th>koi_smass</th>\n",
       "      <td>5202.0</td>\n",
       "      <td>NaN</td>\n",
       "      <td>NaN</td>\n",
       "      <td>NaN</td>\n",
       "      <td>0.0</td>\n",
       "      <td>1.000096</td>\n",
       "      <td>-2.445106</td>\n",
       "      <td>-0.512549</td>\n",
       "      <td>-0.143046</td>\n",
       "      <td>0.229389</td>\n",
       "      <td>7.71915</td>\n",
       "    </tr>\n",
       "    <tr>\n",
       "      <th>koi_kepmag</th>\n",
       "      <td>5202.0</td>\n",
       "      <td>NaN</td>\n",
       "      <td>NaN</td>\n",
       "      <td>NaN</td>\n",
       "      <td>0.0</td>\n",
       "      <td>1.000096</td>\n",
       "      <td>-5.511688</td>\n",
       "      <td>-0.607996</td>\n",
       "      <td>0.200848</td>\n",
       "      <td>0.769017</td>\n",
       "      <td>2.80774</td>\n",
       "    </tr>\n",
       "    <tr>\n",
       "      <th>koi_gmag</th>\n",
       "      <td>5202.0</td>\n",
       "      <td>NaN</td>\n",
       "      <td>NaN</td>\n",
       "      <td>NaN</td>\n",
       "      <td>0.0</td>\n",
       "      <td>1.000096</td>\n",
       "      <td>-5.541638</td>\n",
       "      <td>-0.607863</td>\n",
       "      <td>0.167894</td>\n",
       "      <td>0.751378</td>\n",
       "      <td>2.652695</td>\n",
       "    </tr>\n",
       "    <tr>\n",
       "      <th>koi_rmag</th>\n",
       "      <td>5202.0</td>\n",
       "      <td>NaN</td>\n",
       "      <td>NaN</td>\n",
       "      <td>NaN</td>\n",
       "      <td>0.0</td>\n",
       "      <td>1.000096</td>\n",
       "      <td>-5.417903</td>\n",
       "      <td>-0.608788</td>\n",
       "      <td>0.199175</td>\n",
       "      <td>0.768852</td>\n",
       "      <td>2.776134</td>\n",
       "    </tr>\n",
       "    <tr>\n",
       "      <th>koi_imag</th>\n",
       "      <td>5202.0</td>\n",
       "      <td>NaN</td>\n",
       "      <td>NaN</td>\n",
       "      <td>NaN</td>\n",
       "      <td>0.0</td>\n",
       "      <td>1.000096</td>\n",
       "      <td>-5.305345</td>\n",
       "      <td>-0.596752</td>\n",
       "      <td>0.201391</td>\n",
       "      <td>0.773482</td>\n",
       "      <td>2.955373</td>\n",
       "    </tr>\n",
       "    <tr>\n",
       "      <th>koi_zmag</th>\n",
       "      <td>5202.0</td>\n",
       "      <td>NaN</td>\n",
       "      <td>NaN</td>\n",
       "      <td>NaN</td>\n",
       "      <td>-0.0</td>\n",
       "      <td>1.000096</td>\n",
       "      <td>-5.3116</td>\n",
       "      <td>-0.588215</td>\n",
       "      <td>0.198216</td>\n",
       "      <td>0.769406</td>\n",
       "      <td>2.827027</td>\n",
       "    </tr>\n",
       "    <tr>\n",
       "      <th>koi_jmag</th>\n",
       "      <td>5202.0</td>\n",
       "      <td>NaN</td>\n",
       "      <td>NaN</td>\n",
       "      <td>NaN</td>\n",
       "      <td>0.0</td>\n",
       "      <td>1.000096</td>\n",
       "      <td>-5.763757</td>\n",
       "      <td>-0.567228</td>\n",
       "      <td>0.184959</td>\n",
       "      <td>0.762422</td>\n",
       "      <td>3.098599</td>\n",
       "    </tr>\n",
       "    <tr>\n",
       "      <th>koi_hmag</th>\n",
       "      <td>5202.0</td>\n",
       "      <td>NaN</td>\n",
       "      <td>NaN</td>\n",
       "      <td>NaN</td>\n",
       "      <td>-0.0</td>\n",
       "      <td>1.000096</td>\n",
       "      <td>-6.227073</td>\n",
       "      <td>-0.55612</td>\n",
       "      <td>0.166173</td>\n",
       "      <td>0.747298</td>\n",
       "      <td>2.99039</td>\n",
       "    </tr>\n",
       "    <tr>\n",
       "      <th>koi_kmag</th>\n",
       "      <td>5202.0</td>\n",
       "      <td>NaN</td>\n",
       "      <td>NaN</td>\n",
       "      <td>NaN</td>\n",
       "      <td>0.0</td>\n",
       "      <td>1.000096</td>\n",
       "      <td>-6.378039</td>\n",
       "      <td>-0.553577</td>\n",
       "      <td>0.154699</td>\n",
       "      <td>0.752279</td>\n",
       "      <td>2.835595</td>\n",
       "    </tr>\n",
       "    <tr>\n",
       "      <th>koi_fwm_stat_sig</th>\n",
       "      <td>5202.0</td>\n",
       "      <td>NaN</td>\n",
       "      <td>NaN</td>\n",
       "      <td>NaN</td>\n",
       "      <td>0.0</td>\n",
       "      <td>1.000096</td>\n",
       "      <td>-0.514911</td>\n",
       "      <td>-0.514911</td>\n",
       "      <td>-0.514911</td>\n",
       "      <td>-0.049711</td>\n",
       "      <td>3.832758</td>\n",
       "    </tr>\n",
       "    <tr>\n",
       "      <th>koi_fwm_sra</th>\n",
       "      <td>5202.0</td>\n",
       "      <td>NaN</td>\n",
       "      <td>NaN</td>\n",
       "      <td>NaN</td>\n",
       "      <td>0.0</td>\n",
       "      <td>1.000096</td>\n",
       "      <td>-2.577333</td>\n",
       "      <td>-0.692377</td>\n",
       "      <td>0.033902</td>\n",
       "      <td>0.797028</td>\n",
       "      <td>2.034376</td>\n",
       "    </tr>\n",
       "    <tr>\n",
       "      <th>koi_fwm_sdec</th>\n",
       "      <td>5202.0</td>\n",
       "      <td>NaN</td>\n",
       "      <td>NaN</td>\n",
       "      <td>NaN</td>\n",
       "      <td>0.0</td>\n",
       "      <td>1.000096</td>\n",
       "      <td>-1.998562</td>\n",
       "      <td>-0.85995</td>\n",
       "      <td>-0.040139</td>\n",
       "      <td>0.80827</td>\n",
       "      <td>2.339392</td>\n",
       "    </tr>\n",
       "    <tr>\n",
       "      <th>koi_fwm_srao</th>\n",
       "      <td>5202.0</td>\n",
       "      <td>NaN</td>\n",
       "      <td>NaN</td>\n",
       "      <td>NaN</td>\n",
       "      <td>0.0</td>\n",
       "      <td>1.000096</td>\n",
       "      <td>-25.07322</td>\n",
       "      <td>-0.013147</td>\n",
       "      <td>0.032401</td>\n",
       "      <td>0.077948</td>\n",
       "      <td>8.939613</td>\n",
       "    </tr>\n",
       "    <tr>\n",
       "      <th>koi_fwm_sdeco</th>\n",
       "      <td>5202.0</td>\n",
       "      <td>NaN</td>\n",
       "      <td>NaN</td>\n",
       "      <td>NaN</td>\n",
       "      <td>0.0</td>\n",
       "      <td>1.000096</td>\n",
       "      <td>-26.920818</td>\n",
       "      <td>0.015986</td>\n",
       "      <td>0.052621</td>\n",
       "      <td>0.085185</td>\n",
       "      <td>6.756123</td>\n",
       "    </tr>\n",
       "    <tr>\n",
       "      <th>koi_fwm_prao</th>\n",
       "      <td>5202.0</td>\n",
       "      <td>NaN</td>\n",
       "      <td>NaN</td>\n",
       "      <td>NaN</td>\n",
       "      <td>-0.0</td>\n",
       "      <td>1.000096</td>\n",
       "      <td>-60.877711</td>\n",
       "      <td>0.000353</td>\n",
       "      <td>0.004006</td>\n",
       "      <td>0.007963</td>\n",
       "      <td>18.116317</td>\n",
       "    </tr>\n",
       "    <tr>\n",
       "      <th>koi_fwm_pdeco</th>\n",
       "      <td>5202.0</td>\n",
       "      <td>NaN</td>\n",
       "      <td>NaN</td>\n",
       "      <td>NaN</td>\n",
       "      <td>-0.0</td>\n",
       "      <td>1.000096</td>\n",
       "      <td>-10.326754</td>\n",
       "      <td>-0.008757</td>\n",
       "      <td>-0.00566</td>\n",
       "      <td>-0.002048</td>\n",
       "      <td>64.501177</td>\n",
       "    </tr>\n",
       "    <tr>\n",
       "      <th>koi_dicco_mra</th>\n",
       "      <td>5202.0</td>\n",
       "      <td>NaN</td>\n",
       "      <td>NaN</td>\n",
       "      <td>NaN</td>\n",
       "      <td>0.0</td>\n",
       "      <td>1.000096</td>\n",
       "      <td>-8.700403</td>\n",
       "      <td>-0.089338</td>\n",
       "      <td>0.020176</td>\n",
       "      <td>0.113466</td>\n",
       "      <td>18.548364</td>\n",
       "    </tr>\n",
       "    <tr>\n",
       "      <th>koi_dicco_mdec</th>\n",
       "      <td>5202.0</td>\n",
       "      <td>NaN</td>\n",
       "      <td>NaN</td>\n",
       "      <td>NaN</td>\n",
       "      <td>-0.0</td>\n",
       "      <td>1.000096</td>\n",
       "      <td>-27.605656</td>\n",
       "      <td>-0.074314</td>\n",
       "      <td>0.03183</td>\n",
       "      <td>0.11558</td>\n",
       "      <td>10.045412</td>\n",
       "    </tr>\n",
       "    <tr>\n",
       "      <th>koi_dicco_msky</th>\n",
       "      <td>5202.0</td>\n",
       "      <td>NaN</td>\n",
       "      <td>NaN</td>\n",
       "      <td>NaN</td>\n",
       "      <td>-0.0</td>\n",
       "      <td>1.000096</td>\n",
       "      <td>-0.613314</td>\n",
       "      <td>-0.572564</td>\n",
       "      <td>-0.467154</td>\n",
       "      <td>0.203272</td>\n",
       "      <td>27.538245</td>\n",
       "    </tr>\n",
       "    <tr>\n",
       "      <th>koi_dikco_mra</th>\n",
       "      <td>5202.0</td>\n",
       "      <td>NaN</td>\n",
       "      <td>NaN</td>\n",
       "      <td>NaN</td>\n",
       "      <td>-0.0</td>\n",
       "      <td>1.000096</td>\n",
       "      <td>-9.559011</td>\n",
       "      <td>-0.092033</td>\n",
       "      <td>0.01274</td>\n",
       "      <td>0.10737</td>\n",
       "      <td>18.909169</td>\n",
       "    </tr>\n",
       "    <tr>\n",
       "      <th>koi_dikco_mdec</th>\n",
       "      <td>5202.0</td>\n",
       "      <td>NaN</td>\n",
       "      <td>NaN</td>\n",
       "      <td>NaN</td>\n",
       "      <td>-0.0</td>\n",
       "      <td>1.000096</td>\n",
       "      <td>-27.976642</td>\n",
       "      <td>-0.080916</td>\n",
       "      <td>0.029526</td>\n",
       "      <td>0.127534</td>\n",
       "      <td>11.446002</td>\n",
       "    </tr>\n",
       "    <tr>\n",
       "      <th>koi_dikco_msky</th>\n",
       "      <td>5202.0</td>\n",
       "      <td>NaN</td>\n",
       "      <td>NaN</td>\n",
       "      <td>NaN</td>\n",
       "      <td>-0.0</td>\n",
       "      <td>1.000096</td>\n",
       "      <td>-0.611058</td>\n",
       "      <td>-0.553778</td>\n",
       "      <td>-0.466903</td>\n",
       "      <td>0.159039</td>\n",
       "      <td>27.901619</td>\n",
       "    </tr>\n",
       "  </tbody>\n",
       "</table>\n",
       "</div>"
      ],
      "text/plain": [
       "                   count unique             top  freq mean       std  \\\n",
       "kepoi_name          5202   5202       K00752.01     1  NaN       NaN   \n",
       "koi_disposition     5202      2  FALSE POSITIVE  3098  NaN       NaN   \n",
       "koi_period        5202.0    NaN             NaN   NaN  0.0  1.000096   \n",
       "koi_impact        5202.0    NaN             NaN   NaN -0.0  1.000096   \n",
       "koi_duration      5202.0    NaN             NaN   NaN -0.0  1.000096   \n",
       "koi_depth         5202.0    NaN             NaN   NaN -0.0  1.000096   \n",
       "koi_ror           5202.0    NaN             NaN   NaN  0.0  1.000096   \n",
       "koi_srho          5202.0    NaN             NaN   NaN  0.0  1.000096   \n",
       "koi_prad          5202.0    NaN             NaN   NaN  0.0  1.000096   \n",
       "koi_sma           5202.0    NaN             NaN   NaN  0.0  1.000096   \n",
       "koi_incl          5202.0    NaN             NaN   NaN  0.0  1.000096   \n",
       "koi_teq           5202.0    NaN             NaN   NaN  0.0  1.000096   \n",
       "koi_insol         5202.0    NaN             NaN   NaN -0.0  1.000096   \n",
       "koi_dor           5202.0    NaN             NaN   NaN  0.0  1.000096   \n",
       "koi_max_sngle_ev  5202.0    NaN             NaN   NaN  0.0  1.000096   \n",
       "koi_max_mult_ev   5202.0    NaN             NaN   NaN  0.0  1.000096   \n",
       "koi_model_snr     5202.0    NaN             NaN   NaN  0.0  1.000096   \n",
       "koi_steff         5202.0    NaN             NaN   NaN  0.0  1.000096   \n",
       "koi_slogg         5202.0    NaN             NaN   NaN  0.0  1.000096   \n",
       "koi_smet          5202.0    NaN             NaN   NaN  0.0  1.000096   \n",
       "koi_srad          5202.0    NaN             NaN   NaN  0.0  1.000096   \n",
       "koi_smass         5202.0    NaN             NaN   NaN  0.0  1.000096   \n",
       "koi_kepmag        5202.0    NaN             NaN   NaN  0.0  1.000096   \n",
       "koi_gmag          5202.0    NaN             NaN   NaN  0.0  1.000096   \n",
       "koi_rmag          5202.0    NaN             NaN   NaN  0.0  1.000096   \n",
       "koi_imag          5202.0    NaN             NaN   NaN  0.0  1.000096   \n",
       "koi_zmag          5202.0    NaN             NaN   NaN -0.0  1.000096   \n",
       "koi_jmag          5202.0    NaN             NaN   NaN  0.0  1.000096   \n",
       "koi_hmag          5202.0    NaN             NaN   NaN -0.0  1.000096   \n",
       "koi_kmag          5202.0    NaN             NaN   NaN  0.0  1.000096   \n",
       "koi_fwm_stat_sig  5202.0    NaN             NaN   NaN  0.0  1.000096   \n",
       "koi_fwm_sra       5202.0    NaN             NaN   NaN  0.0  1.000096   \n",
       "koi_fwm_sdec      5202.0    NaN             NaN   NaN  0.0  1.000096   \n",
       "koi_fwm_srao      5202.0    NaN             NaN   NaN  0.0  1.000096   \n",
       "koi_fwm_sdeco     5202.0    NaN             NaN   NaN  0.0  1.000096   \n",
       "koi_fwm_prao      5202.0    NaN             NaN   NaN -0.0  1.000096   \n",
       "koi_fwm_pdeco     5202.0    NaN             NaN   NaN -0.0  1.000096   \n",
       "koi_dicco_mra     5202.0    NaN             NaN   NaN  0.0  1.000096   \n",
       "koi_dicco_mdec    5202.0    NaN             NaN   NaN -0.0  1.000096   \n",
       "koi_dicco_msky    5202.0    NaN             NaN   NaN -0.0  1.000096   \n",
       "koi_dikco_mra     5202.0    NaN             NaN   NaN -0.0  1.000096   \n",
       "koi_dikco_mdec    5202.0    NaN             NaN   NaN -0.0  1.000096   \n",
       "koi_dikco_msky    5202.0    NaN             NaN   NaN -0.0  1.000096   \n",
       "\n",
       "                        min       25%       50%       75%        max  \n",
       "kepoi_name              NaN       NaN       NaN       NaN        NaN  \n",
       "koi_disposition         NaN       NaN       NaN       NaN        NaN  \n",
       "koi_period          -0.4154  -0.39383  -0.33532  -0.15365  11.697844  \n",
       "koi_impact        -0.272876 -0.186878 -0.040756  0.078633  38.086232  \n",
       "koi_duration      -0.790355  -0.44625 -0.258767  0.056554  19.094174  \n",
       "koi_depth         -0.318579 -0.315952 -0.311187 -0.286934  12.584014  \n",
       "koi_ror           -0.090456 -0.085905 -0.081602 -0.024728   38.52932  \n",
       "koi_srho          -0.135912 -0.128906 -0.106145 -0.045697  36.425594  \n",
       "koi_prad          -0.030316 -0.029943 -0.029634 -0.024486  54.125373  \n",
       "koi_sma           -0.624341 -0.517627 -0.349492  0.000222    7.76093  \n",
       "koi_incl          -4.837806  0.045905  0.411386  0.511342   0.540776  \n",
       "koi_teq            -1.35581  -0.68127 -0.252311  0.436087  11.147505  \n",
       "koi_insol         -0.099953 -0.099021 -0.094708 -0.068621  59.507653  \n",
       "koi_dor           -0.429283 -0.381524 -0.288348 -0.065144  18.811203  \n",
       "koi_max_sngle_ev  -0.228489 -0.226231 -0.223657 -0.205235   31.21218  \n",
       "koi_max_mult_ev   -0.258283 -0.256684 -0.253542 -0.233561  13.489767  \n",
       "koi_model_snr     -0.356023 -0.335904 -0.316376 -0.222793  10.360033  \n",
       "koi_steff         -3.159113 -0.489088  0.063853  0.494339  12.871133  \n",
       "koi_slogg        -11.046443 -0.206058  0.301924  0.554626   1.931592  \n",
       "koi_smet           -8.29751 -0.538708  0.090384  0.684526   2.397054  \n",
       "koi_srad          -0.376503 -0.190159 -0.142753 -0.052562  48.080233  \n",
       "koi_smass         -2.445106 -0.512549 -0.143046  0.229389    7.71915  \n",
       "koi_kepmag        -5.511688 -0.607996  0.200848  0.769017    2.80774  \n",
       "koi_gmag          -5.541638 -0.607863  0.167894  0.751378   2.652695  \n",
       "koi_rmag          -5.417903 -0.608788  0.199175  0.768852   2.776134  \n",
       "koi_imag          -5.305345 -0.596752  0.201391  0.773482   2.955373  \n",
       "koi_zmag            -5.3116 -0.588215  0.198216  0.769406   2.827027  \n",
       "koi_jmag          -5.763757 -0.567228  0.184959  0.762422   3.098599  \n",
       "koi_hmag          -6.227073  -0.55612  0.166173  0.747298    2.99039  \n",
       "koi_kmag          -6.378039 -0.553577  0.154699  0.752279   2.835595  \n",
       "koi_fwm_stat_sig  -0.514911 -0.514911 -0.514911 -0.049711   3.832758  \n",
       "koi_fwm_sra       -2.577333 -0.692377  0.033902  0.797028   2.034376  \n",
       "koi_fwm_sdec      -1.998562  -0.85995 -0.040139   0.80827   2.339392  \n",
       "koi_fwm_srao      -25.07322 -0.013147  0.032401  0.077948   8.939613  \n",
       "koi_fwm_sdeco    -26.920818  0.015986  0.052621  0.085185   6.756123  \n",
       "koi_fwm_prao     -60.877711  0.000353  0.004006  0.007963  18.116317  \n",
       "koi_fwm_pdeco    -10.326754 -0.008757  -0.00566 -0.002048  64.501177  \n",
       "koi_dicco_mra     -8.700403 -0.089338  0.020176  0.113466  18.548364  \n",
       "koi_dicco_mdec   -27.605656 -0.074314   0.03183   0.11558  10.045412  \n",
       "koi_dicco_msky    -0.613314 -0.572564 -0.467154  0.203272  27.538245  \n",
       "koi_dikco_mra     -9.559011 -0.092033   0.01274   0.10737  18.909169  \n",
       "koi_dikco_mdec   -27.976642 -0.080916  0.029526  0.127534  11.446002  \n",
       "koi_dikco_msky    -0.611058 -0.553778 -0.466903  0.159039  27.901619  "
      ]
     },
     "execution_count": 64,
     "metadata": {},
     "output_type": "execute_result"
    }
   ],
   "source": [
    "koiDf.describe(include='all').T"
   ]
  },
  {
   "cell_type": "markdown",
   "metadata": {},
   "source": [
    "Agora, podemos ver que as colunas quantitativas possuem a média igual a 0 e desvio padrão igual a 1."
   ]
  },
  {
   "cell_type": "markdown",
   "metadata": {},
   "source": [
    "# Separando em dados de treino e de teste"
   ]
  },
  {
   "cell_type": "code",
   "execution_count": 65,
   "metadata": {},
   "outputs": [],
   "source": [
    "from sklearn.model_selection import train_test_split"
   ]
  },
  {
   "cell_type": "code",
   "execution_count": 66,
   "metadata": {},
   "outputs": [],
   "source": [
    "Y = koiDf['koi_disposition']\n",
    "X = koiDf[koiDf.columns.difference(['kepoi_name','koi_disposition'], sort=False)]"
   ]
  },
  {
   "cell_type": "code",
   "execution_count": 67,
   "metadata": {},
   "outputs": [],
   "source": [
    "X_train, X_test, y_train, y_test = train_test_split(X, Y, test_size=0.2, random_state=GLOBAL_RANDOM_STATE)"
   ]
  },
  {
   "cell_type": "markdown",
   "metadata": {},
   "source": [
    "# Gaussian Naive Bayes"
   ]
  },
  {
   "cell_type": "code",
   "execution_count": 68,
   "metadata": {},
   "outputs": [],
   "source": [
    "from sklearn.naive_bayes import GaussianNB\n",
    "model_name = 'naive_bayes'\n",
    "gnb = GaussianNB()\n",
    "gnb.fit(X_train, y_train)\n",
    "y_pred = gnb.predict(X_test)"
   ]
  },
  {
   "cell_type": "markdown",
   "metadata": {},
   "source": [
    "### Avaliação"
   ]
  },
  {
   "cell_type": "code",
   "execution_count": 69,
   "metadata": {},
   "outputs": [],
   "source": [
    "models_scores = dict()"
   ]
  },
  {
   "cell_type": "code",
   "execution_count": 70,
   "metadata": {},
   "outputs": [
    {
     "name": "stdout",
     "output_type": "stream",
     "text": [
      "                precision    recall  f1-score   support\n",
      "\n",
      "     CONFIRMED      0.830     0.966     0.893       409\n",
      "FALSE POSITIVE      0.975     0.872     0.921       632\n",
      "\n",
      "      accuracy                          0.909      1041\n",
      "     macro avg      0.903     0.919     0.907      1041\n",
      "  weighted avg      0.918     0.909     0.910      1041\n",
      "\n"
     ]
    }
   ],
   "source": [
    "from sklearn.metrics import classification_report, accuracy_score\n",
    "import numpy as np\n",
    "print(classification_report(y_test, y_pred, digits=3))\n",
    "models_scores[model_name] = {'acc':accuracy_score(y_test, y_pred)}"
   ]
  },
  {
   "cell_type": "code",
   "execution_count": 71,
   "metadata": {},
   "outputs": [],
   "source": [
    "from sklearn.metrics import confusion_matrix, ConfusionMatrixDisplay"
   ]
  },
  {
   "cell_type": "code",
   "execution_count": 72,
   "metadata": {},
   "outputs": [],
   "source": [
    "def plotConfusionMatrix(y_test, y_pred, model=None, model_score_dict=None):\n",
    "    \"\"\"\n",
    "    https://scikit-learn.org/stable/modules/generated/sklearn.metrics.ConfusionMatrixDisplay.html\n",
    "    \"\"\"\n",
    "    cm = confusion_matrix(y_test, y_pred)\n",
    "    if model != None:\n",
    "        model_score_dict[model]['confirmed_acc'] = cm[0][0]\n",
    "        model_score_dict[model]['false_positive_acc'] = cm[1][1]\n",
    "    disp = ConfusionMatrixDisplay.from_predictions(y_test, y_pred, normalize='true')\n",
    "    plt.show()"
   ]
  },
  {
   "cell_type": "code",
   "execution_count": 73,
   "metadata": {},
   "outputs": [
    {
     "data": {
      "image/png": "[encoded data removed]",
      "text/plain": [
       "<Figure size 432x288 with 2 Axes>"
      ]
     },
     "metadata": {
      "needs_background": "light"
     },
     "output_type": "display_data"
    }
   ],
   "source": [
    "plotConfusionMatrix(y_test, y_pred, model_name, models_scores)"
   ]
  },
  {
   "cell_type": "markdown",
   "metadata": {},
   "source": [
    "Podemos observar que o modelo obteve altíssima precisão ao detectar FALSE POSITIVEs, mas sua revocação foi menor quando comparada à revocação de CONFIRMED. No geral, sua acurácia foi de 0.909. Um número muito bom."
   ]
  },
  {
   "cell_type": "code",
   "execution_count": 74,
   "metadata": {},
   "outputs": [],
   "source": [
    "def toOnesAndZeros(array, positive_label = 'CONFIRMED'):\n",
    "    myArray = np.array([1 if x == positive_label else 0 for x in array])\n",
    "    return myArray"
   ]
  },
  {
   "cell_type": "code",
   "execution_count": 75,
   "metadata": {},
   "outputs": [],
   "source": [
    "from sklearn.metrics import roc_curve, auc\n",
    "fpr, tpr, thresholds = roc_curve(toOnesAndZeros(y_test), toOnesAndZeros(y_pred))"
   ]
  },
  {
   "cell_type": "code",
   "execution_count": 76,
   "metadata": {},
   "outputs": [],
   "source": [
    "def plotROC(fpr, tpr, model_name, model_scores):\n",
    "    \"\"\"\n",
    "    https://scikit-learn.org/stable/auto_examples/model_selection/plot_roc.html\n",
    "    \"\"\"\n",
    "    plt.figure(figsize=(8,6))\n",
    "    lw = 2\n",
    "    aucArea = auc(fpr,tpr)\n",
    "    model_scores[model_name]['roc area'] = aucArea\n",
    "    plt.plot(\n",
    "        fpr,\n",
    "        tpr,\n",
    "        color=\"darkorange\",\n",
    "        lw=lw,\n",
    "        label=\"ROC curve (area = %0.2f)\" % aucArea,\n",
    "    )\n",
    "    plt.plot([0, 1], [0, 1], color=\"navy\", lw=lw, linestyle=\"--\")\n",
    "    plt.xlim([0.0, 1.0])\n",
    "    plt.ylim([0.0, 1.05])\n",
    "    plt.xlabel(\"False Positive Rate\")\n",
    "    plt.ylabel(\"True Positive Rate\")\n",
    "    plt.title(\"Receiver operating characteristic\")\n",
    "    plt.legend(loc=\"lower right\")\n",
    "    plt.show()"
   ]
  },
  {
   "cell_type": "code",
   "execution_count": 77,
   "metadata": {},
   "outputs": [
    {
     "data": {
      "image/png": "[encoded data removed]",
      "text/plain": [
       "<Figure size 576x432 with 1 Axes>"
      ]
     },
     "metadata": {
      "needs_background": "light"
     },
     "output_type": "display_data"
    }
   ],
   "source": [
    "plotROC(fpr, tpr, model_name, models_scores)"
   ]
  },
  {
   "cell_type": "markdown",
   "metadata": {},
   "source": [
    "# Decision Tree"
   ]
  },
  {
   "cell_type": "code",
   "execution_count": 78,
   "metadata": {},
   "outputs": [],
   "source": [
    "from sklearn.tree import DecisionTreeClassifier\n",
    "from sklearn.model_selection import GridSearchCV\n",
    "\n",
    "model_name = 'decision_tree'\n",
    "grid_params = {\n",
    "    'criterion':['entropy'],\n",
    "    'random_state': [GLOBAL_RANDOM_STATE],\n",
    "    'max_depth': [5, 10, 20, 30, int(10E+10)], # int(10E+10) == profundidade infinita\n",
    "    'min_samples_split': [2, 8]\n",
    "}"
   ]
  },
  {
   "cell_type": "markdown",
   "metadata": {},
   "source": [
    "Vamos realizar um GridSearch com validação cruzada (CV) para tunnar os hiperparâmetros do modelo.\n",
    "\n",
    "As principais questões de uma árvore de classificação são: A profundidade e a quantidade de dados por nó mínima para continuar a expansão da árvore. Dessa forma, serão testadas combinações desses dois hiperparâmetros.\n",
    "\n",
    "Além disso, o critério de escolha de melhor característica a ser usada na divisão será a entropia e não o gini."
   ]
  },
  {
   "cell_type": "code",
   "execution_count": 79,
   "metadata": {},
   "outputs": [
    {
     "name": "stdout",
     "output_type": "stream",
     "text": [
      "CPU times: total: 328 ms\n",
      "Wall time: 5.97 s\n"
     ]
    },
    {
     "data": {
      "text/html": [
       "<style>#sk-container-id-4 {color: black;background-color: white;}#sk-container-id-4 pre{padding: 0;}#sk-container-id-4 div.sk-toggleable {background-color: white;}#sk-container-id-4 label.sk-toggleable__label {cursor: pointer;display: block;width: 100%;margin-bottom: 0;padding: 0.3em;box-sizing: border-box;text-align: center;}#sk-container-id-4 label.sk-toggleable__label-arrow:before {content: \"▸\";float: left;margin-right: 0.25em;color: #696969;}#sk-container-id-4 label.sk-toggleable__label-arrow:hover:before {color: black;}#sk-container-id-4 div.sk-estimator:hover label.sk-toggleable__label-arrow:before {color: black;}#sk-container-id-4 div.sk-toggleable__content {max-height: 0;max-width: 0;overflow: hidden;text-align: left;background-color: #f0f8ff;}#sk-container-id-4 div.sk-toggleable__content pre {margin: 0.2em;color: black;border-radius: 0.25em;background-color: #f0f8ff;}#sk-container-id-4 input.sk-toggleable__control:checked~div.sk-toggleable__content {max-height: 200px;max-width: 100%;overflow: auto;}#sk-container-id-4 input.sk-toggleable__control:checked~label.sk-toggleable__label-arrow:before {content: \"▾\";}#sk-container-id-4 div.sk-estimator input.sk-toggleable__control:checked~label.sk-toggleable__label {background-color: #d4ebff;}#sk-container-id-4 div.sk-label input.sk-toggleable__control:checked~label.sk-toggleable__label {background-color: #d4ebff;}#sk-container-id-4 input.sk-hidden--visually {border: 0;clip: rect(1px 1px 1px 1px);clip: rect(1px, 1px, 1px, 1px);height: 1px;margin: -1px;overflow: hidden;padding: 0;position: absolute;width: 1px;}#sk-container-id-4 div.sk-estimator {font-family: monospace;background-color: #f0f8ff;border: 1px dotted black;border-radius: 0.25em;box-sizing: border-box;margin-bottom: 0.5em;}#sk-container-id-4 div.sk-estimator:hover {background-color: #d4ebff;}#sk-container-id-4 div.sk-parallel-item::after {content: \"\";width: 100%;border-bottom: 1px solid gray;flex-grow: 1;}#sk-container-id-4 div.sk-label:hover label.sk-toggleable__label {background-color: #d4ebff;}#sk-container-id-4 div.sk-serial::before {content: \"\";position: absolute;border-left: 1px solid gray;box-sizing: border-box;top: 0;bottom: 0;left: 50%;z-index: 0;}#sk-container-id-4 div.sk-serial {display: flex;flex-direction: column;align-items: center;background-color: white;padding-right: 0.2em;padding-left: 0.2em;position: relative;}#sk-container-id-4 div.sk-item {position: relative;z-index: 1;}#sk-container-id-4 div.sk-parallel {display: flex;align-items: stretch;justify-content: center;background-color: white;position: relative;}#sk-container-id-4 div.sk-item::before, #sk-container-id-4 div.sk-parallel-item::before {content: \"\";position: absolute;border-left: 1px solid gray;box-sizing: border-box;top: 0;bottom: 0;left: 50%;z-index: -1;}#sk-container-id-4 div.sk-parallel-item {display: flex;flex-direction: column;z-index: 1;position: relative;background-color: white;}#sk-container-id-4 div.sk-parallel-item:first-child::after {align-self: flex-end;width: 50%;}#sk-container-id-4 div.sk-parallel-item:last-child::after {align-self: flex-start;width: 50%;}#sk-container-id-4 div.sk-parallel-item:only-child::after {width: 0;}#sk-container-id-4 div.sk-dashed-wrapped {border: 1px dashed gray;margin: 0 0.4em 0.5em 0.4em;box-sizing: border-box;padding-bottom: 0.4em;background-color: white;}#sk-container-id-4 div.sk-label label {font-family: monospace;font-weight: bold;display: inline-block;line-height: 1.2em;}#sk-container-id-4 div.sk-label-container {text-align: center;}#sk-container-id-4 div.sk-container {/* jupyter's `normalize.less` sets `[hidden] { display: none; }` but bootstrap.min.css set `[hidden] { display: none !important; }` so we also need the `!important` here to be able to override the default hidden behavior on the sphinx rendered scikit-learn.org. See: https://github.com/scikit-learn/scikit-learn/issues/21755 */display: inline-block !important;position: relative;}#sk-container-id-4 div.sk-text-repr-fallback {display: none;}</style><div id=\"sk-container-id-4\" class=\"sk-top-container\"><div class=\"sk-text-repr-fallback\"><pre>GridSearchCV(cv=5, estimator=DecisionTreeClassifier(), n_jobs=-1,\n",
       "             param_grid={&#x27;criterion&#x27;: [&#x27;entropy&#x27;],\n",
       "                         &#x27;max_depth&#x27;: [5, 10, 20, 30, 100000000000],\n",
       "                         &#x27;min_samples_split&#x27;: [2, 8], &#x27;random_state&#x27;: [42]},\n",
       "             scoring=&#x27;accuracy&#x27;)</pre><b>In a Jupyter environment, please rerun this cell to show the HTML representation or trust the notebook. <br />On GitHub, the HTML representation is unable to render, please try loading this page with nbviewer.org.</b></div><div class=\"sk-container\" hidden><div class=\"sk-item sk-dashed-wrapped\"><div class=\"sk-label-container\"><div class=\"sk-label sk-toggleable\"><input class=\"sk-toggleable__control sk-hidden--visually\" id=\"sk-estimator-id-10\" type=\"checkbox\" ><label for=\"sk-estimator-id-10\" class=\"sk-toggleable__label sk-toggleable__label-arrow\">GridSearchCV</label><div class=\"sk-toggleable__content\"><pre>GridSearchCV(cv=5, estimator=DecisionTreeClassifier(), n_jobs=-1,\n",
       "             param_grid={&#x27;criterion&#x27;: [&#x27;entropy&#x27;],\n",
       "                         &#x27;max_depth&#x27;: [5, 10, 20, 30, 100000000000],\n",
       "                         &#x27;min_samples_split&#x27;: [2, 8], &#x27;random_state&#x27;: [42]},\n",
       "             scoring=&#x27;accuracy&#x27;)</pre></div></div></div><div class=\"sk-parallel\"><div class=\"sk-parallel-item\"><div class=\"sk-item\"><div class=\"sk-label-container\"><div class=\"sk-label sk-toggleable\"><input class=\"sk-toggleable__control sk-hidden--visually\" id=\"sk-estimator-id-11\" type=\"checkbox\" ><label for=\"sk-estimator-id-11\" class=\"sk-toggleable__label sk-toggleable__label-arrow\">estimator: DecisionTreeClassifier</label><div class=\"sk-toggleable__content\"><pre>DecisionTreeClassifier()</pre></div></div></div><div class=\"sk-serial\"><div class=\"sk-item\"><div class=\"sk-estimator sk-toggleable\"><input class=\"sk-toggleable__control sk-hidden--visually\" id=\"sk-estimator-id-12\" type=\"checkbox\" ><label for=\"sk-estimator-id-12\" class=\"sk-toggleable__label sk-toggleable__label-arrow\">DecisionTreeClassifier</label><div class=\"sk-toggleable__content\"><pre>DecisionTreeClassifier()</pre></div></div></div></div></div></div></div></div></div></div>"
      ],
      "text/plain": [
       "GridSearchCV(cv=5, estimator=DecisionTreeClassifier(), n_jobs=-1,\n",
       "             param_grid={'criterion': ['entropy'],\n",
       "                         'max_depth': [5, 10, 20, 30, 100000000000],\n",
       "                         'min_samples_split': [2, 8], 'random_state': [42]},\n",
       "             scoring='accuracy')"
      ]
     },
     "execution_count": 79,
     "metadata": {},
     "output_type": "execute_result"
    }
   ],
   "source": [
    "%%time\n",
    "tree = DecisionTreeClassifier()\n",
    "clf = GridSearchCV(tree, grid_params, scoring = 'accuracy', n_jobs=-1, cv=5)\n",
    "clf.fit(X_train, y_train)"
   ]
  },
  {
   "cell_type": "markdown",
   "metadata": {},
   "source": [
    "O Grid Search foi configurado para medir a [acurácia](https://scikit-learn.org/stable/modules/model_evaluation.html#the-scoring-parameter-defining-model-evaluation-rules) do modelo com 5 splits."
   ]
  },
  {
   "cell_type": "code",
   "execution_count": 80,
   "metadata": {},
   "outputs": [
    {
     "data": {
      "image/png": "[encoded data removed]",
      "text/plain": [
       "<Figure size 576x576 with 1 Axes>"
      ]
     },
     "metadata": {
      "needs_background": "light"
     },
     "output_type": "display_data"
    }
   ],
   "source": [
    "x_labels = []\n",
    "for config in clf.cv_results_['params']:\n",
    "    label = 'max_depth: '+str(config['max_depth'])+\", min_samples: \"+str(config['min_samples_split'])\n",
    "    x_labels.append(label)\n",
    "\n",
    "plt.figure(figsize=(8,8))\n",
    "plt.title(\"Score para cada config do modelo\")\n",
    "plt.plot(x_labels, clf.cv_results_['mean_test_score'])\n",
    "plt.xticks(rotation = 70)\n",
    "plt.ylabel(\"Score (Acurácia)\")\n",
    "plt.show()"
   ]
  },
  {
   "cell_type": "markdown",
   "metadata": {},
   "source": [
    "Podemos ver que o melhor modelo encontrado foi o com a seguinte configuração: \n"
   ]
  },
  {
   "cell_type": "code",
   "execution_count": 81,
   "metadata": {},
   "outputs": [
    {
     "data": {
      "text/plain": [
       "{'criterion': 'entropy',\n",
       " 'max_depth': 10,\n",
       " 'min_samples_split': 2,\n",
       " 'random_state': 42}"
      ]
     },
     "execution_count": 81,
     "metadata": {},
     "output_type": "execute_result"
    }
   ],
   "source": [
    "clf.best_params_"
   ]
  },
  {
   "cell_type": "markdown",
   "metadata": {},
   "source": [
    "E obteve o seguinte score na validação:"
   ]
  },
  {
   "cell_type": "code",
   "execution_count": 82,
   "metadata": {},
   "outputs": [
    {
     "data": {
      "text/plain": [
       "0.9509733701172776"
      ]
     },
     "execution_count": 82,
     "metadata": {},
     "output_type": "execute_result"
    }
   ],
   "source": [
    "clf.best_score_"
   ]
  },
  {
   "cell_type": "markdown",
   "metadata": {},
   "source": [
    "Além disso, pode-se perceber que, apesar de permitirmos uma profundidade (praticamente) infinita, ela não foi melhor do que a com profundidade máxima de 10. Provavelmente, ela não conseguiu generalizar tão bem e isso foi sentido na validação."
   ]
  },
  {
   "cell_type": "markdown",
   "metadata": {},
   "source": [
    "# Testando o melhor modelo"
   ]
  },
  {
   "cell_type": "code",
   "execution_count": 83,
   "metadata": {},
   "outputs": [],
   "source": [
    "bestTree = clf.best_estimator_\n",
    "y_pred = bestTree.predict(X_test)"
   ]
  },
  {
   "cell_type": "code",
   "execution_count": 84,
   "metadata": {},
   "outputs": [
    {
     "name": "stdout",
     "output_type": "stream",
     "text": [
      "                precision    recall  f1-score   support\n",
      "\n",
      "     CONFIRMED      0.935     0.949     0.942       409\n",
      "FALSE POSITIVE      0.966     0.957     0.962       632\n",
      "\n",
      "      accuracy                          0.954      1041\n",
      "     macro avg      0.951     0.953     0.952      1041\n",
      "  weighted avg      0.954     0.954     0.954      1041\n",
      "\n"
     ]
    }
   ],
   "source": [
    "print(classification_report(y_test, y_pred, digits=3))\n",
    "models_scores[model_name] = {'acc': accuracy_score(y_test, y_pred)}"
   ]
  },
  {
   "cell_type": "code",
   "execution_count": 85,
   "metadata": {},
   "outputs": [
    {
     "data": {
      "image/png": "[encoded data removed]",
      "text/plain": [
       "<Figure size 432x288 with 2 Axes>"
      ]
     },
     "metadata": {
      "needs_background": "light"
     },
     "output_type": "display_data"
    }
   ],
   "source": [
    "plotConfusionMatrix(y_test, y_pred, model_name, models_scores)"
   ]
  },
  {
   "cell_type": "markdown",
   "metadata": {},
   "source": [
    "Dessa vez, podemos perceber que o valor de precisão de FALSE POSITIVEs diminuiu um pouco mas a precisão para CONFIRMED aumentou consideravelmente quando comparado com o Gaussian Naive Bayes. A acurácia também aumentou."
   ]
  },
  {
   "cell_type": "code",
   "execution_count": 86,
   "metadata": {},
   "outputs": [],
   "source": [
    "fpr, tpr, thresholds = roc_curve(toOnesAndZeros(y_test), toOnesAndZeros(y_pred))"
   ]
  },
  {
   "cell_type": "code",
   "execution_count": 87,
   "metadata": {},
   "outputs": [
    {
     "data": {
      "image/png": "[encoded data removed]",
      "text/plain": [
       "<Figure size 576x432 with 1 Axes>"
      ]
     },
     "metadata": {
      "needs_background": "light"
     },
     "output_type": "display_data"
    }
   ],
   "source": [
    "plotROC(fpr, tpr, model_name, models_scores)"
   ]
  },
  {
   "cell_type": "markdown",
   "metadata": {},
   "source": [
    "Até agora, temos os seguintes dados:"
   ]
  },
  {
   "cell_type": "code",
   "execution_count": 88,
   "metadata": {},
   "outputs": [
    {
     "data": {
      "text/html": [
       "<div>\n",
       "<style scoped>\n",
       "    .dataframe tbody tr th:only-of-type {\n",
       "        vertical-align: middle;\n",
       "    }\n",
       "\n",
       "    .dataframe tbody tr th {\n",
       "        vertical-align: top;\n",
       "    }\n",
       "\n",
       "    .dataframe thead th {\n",
       "        text-align: right;\n",
       "    }\n",
       "</style>\n",
       "<table border=\"1\" class=\"dataframe\">\n",
       "  <thead>\n",
       "    <tr style=\"text-align: right;\">\n",
       "      <th></th>\n",
       "      <th>acc</th>\n",
       "      <th>confirmed_acc</th>\n",
       "      <th>false_positive_acc</th>\n",
       "      <th>roc area</th>\n",
       "    </tr>\n",
       "  </thead>\n",
       "  <tbody>\n",
       "    <tr>\n",
       "      <th>naive_bayes</th>\n",
       "      <td>0.908742</td>\n",
       "      <td>395</td>\n",
       "      <td>551</td>\n",
       "      <td>0.918803</td>\n",
       "    </tr>\n",
       "    <tr>\n",
       "      <th>decision_tree</th>\n",
       "      <td>0.953890</td>\n",
       "      <td>388</td>\n",
       "      <td>605</td>\n",
       "      <td>0.952967</td>\n",
       "    </tr>\n",
       "  </tbody>\n",
       "</table>\n",
       "</div>"
      ],
      "text/plain": [
       "                    acc  confirmed_acc  false_positive_acc  roc area\n",
       "naive_bayes    0.908742            395                 551  0.918803\n",
       "decision_tree  0.953890            388                 605  0.952967"
      ]
     },
     "execution_count": 88,
     "metadata": {},
     "output_type": "execute_result"
    }
   ],
   "source": [
    "pd.DataFrame.from_dict(models_scores, orient='index')"
   ]
  },
  {
   "cell_type": "markdown",
   "metadata": {},
   "source": [
    "# SVM"
   ]
  },
  {
   "cell_type": "code",
   "execution_count": 113,
   "metadata": {},
   "outputs": [],
   "source": [
    "from sklearn.svm import SVC\n",
    "\n",
    "model_name = 'svc'\n",
    "grid_params = [\n",
    "    {'kernel':['linear']},\n",
    "    {'kernel':['poly'], 'degree':[2, 3, 4, 5, 10]},\n",
    "    {'kernel':['rbf']},\n",
    "    {'kernel':['sigmoid']}\n",
    "]"
   ]
  },
  {
   "cell_type": "markdown",
   "metadata": {},
   "source": [
    "Assim como nas árvores de decisão, também vamos tunnar hiperparâmetros via Grid Search e validação cruzada. No caso, serão testados todos os [kernels já providos pelo sklearn para o SVC](https://scikit-learn.org/stable/modules/svm.html#kernel-functions)"
   ]
  },
  {
   "cell_type": "code",
   "execution_count": 114,
   "metadata": {},
   "outputs": [
    {
     "name": "stdout",
     "output_type": "stream",
     "text": [
      "CPU times: total: 391 ms\n",
      "Wall time: 10.5 s\n"
     ]
    },
    {
     "data": {
      "text/html": [
       "<style>#sk-container-id-7 {color: black;background-color: white;}#sk-container-id-7 pre{padding: 0;}#sk-container-id-7 div.sk-toggleable {background-color: white;}#sk-container-id-7 label.sk-toggleable__label {cursor: pointer;display: block;width: 100%;margin-bottom: 0;padding: 0.3em;box-sizing: border-box;text-align: center;}#sk-container-id-7 label.sk-toggleable__label-arrow:before {content: \"▸\";float: left;margin-right: 0.25em;color: #696969;}#sk-container-id-7 label.sk-toggleable__label-arrow:hover:before {color: black;}#sk-container-id-7 div.sk-estimator:hover label.sk-toggleable__label-arrow:before {color: black;}#sk-container-id-7 div.sk-toggleable__content {max-height: 0;max-width: 0;overflow: hidden;text-align: left;background-color: #f0f8ff;}#sk-container-id-7 div.sk-toggleable__content pre {margin: 0.2em;color: black;border-radius: 0.25em;background-color: #f0f8ff;}#sk-container-id-7 input.sk-toggleable__control:checked~div.sk-toggleable__content {max-height: 200px;max-width: 100%;overflow: auto;}#sk-container-id-7 input.sk-toggleable__control:checked~label.sk-toggleable__label-arrow:before {content: \"▾\";}#sk-container-id-7 div.sk-estimator input.sk-toggleable__control:checked~label.sk-toggleable__label {background-color: #d4ebff;}#sk-container-id-7 div.sk-label input.sk-toggleable__control:checked~label.sk-toggleable__label {background-color: #d4ebff;}#sk-container-id-7 input.sk-hidden--visually {border: 0;clip: rect(1px 1px 1px 1px);clip: rect(1px, 1px, 1px, 1px);height: 1px;margin: -1px;overflow: hidden;padding: 0;position: absolute;width: 1px;}#sk-container-id-7 div.sk-estimator {font-family: monospace;background-color: #f0f8ff;border: 1px dotted black;border-radius: 0.25em;box-sizing: border-box;margin-bottom: 0.5em;}#sk-container-id-7 div.sk-estimator:hover {background-color: #d4ebff;}#sk-container-id-7 div.sk-parallel-item::after {content: \"\";width: 100%;border-bottom: 1px solid gray;flex-grow: 1;}#sk-container-id-7 div.sk-label:hover label.sk-toggleable__label {background-color: #d4ebff;}#sk-container-id-7 div.sk-serial::before {content: \"\";position: absolute;border-left: 1px solid gray;box-sizing: border-box;top: 0;bottom: 0;left: 50%;z-index: 0;}#sk-container-id-7 div.sk-serial {display: flex;flex-direction: column;align-items: center;background-color: white;padding-right: 0.2em;padding-left: 0.2em;position: relative;}#sk-container-id-7 div.sk-item {position: relative;z-index: 1;}#sk-container-id-7 div.sk-parallel {display: flex;align-items: stretch;justify-content: center;background-color: white;position: relative;}#sk-container-id-7 div.sk-item::before, #sk-container-id-7 div.sk-parallel-item::before {content: \"\";position: absolute;border-left: 1px solid gray;box-sizing: border-box;top: 0;bottom: 0;left: 50%;z-index: -1;}#sk-container-id-7 div.sk-parallel-item {display: flex;flex-direction: column;z-index: 1;position: relative;background-color: white;}#sk-container-id-7 div.sk-parallel-item:first-child::after {align-self: flex-end;width: 50%;}#sk-container-id-7 div.sk-parallel-item:last-child::after {align-self: flex-start;width: 50%;}#sk-container-id-7 div.sk-parallel-item:only-child::after {width: 0;}#sk-container-id-7 div.sk-dashed-wrapped {border: 1px dashed gray;margin: 0 0.4em 0.5em 0.4em;box-sizing: border-box;padding-bottom: 0.4em;background-color: white;}#sk-container-id-7 div.sk-label label {font-family: monospace;font-weight: bold;display: inline-block;line-height: 1.2em;}#sk-container-id-7 div.sk-label-container {text-align: center;}#sk-container-id-7 div.sk-container {/* jupyter's `normalize.less` sets `[hidden] { display: none; }` but bootstrap.min.css set `[hidden] { display: none !important; }` so we also need the `!important` here to be able to override the default hidden behavior on the sphinx rendered scikit-learn.org. See: https://github.com/scikit-learn/scikit-learn/issues/21755 */display: inline-block !important;position: relative;}#sk-container-id-7 div.sk-text-repr-fallback {display: none;}</style><div id=\"sk-container-id-7\" class=\"sk-top-container\"><div class=\"sk-text-repr-fallback\"><pre>GridSearchCV(cv=5, estimator=SVC(), n_jobs=-1,\n",
       "             param_grid=[{&#x27;kernel&#x27;: [&#x27;linear&#x27;]},\n",
       "                         {&#x27;degree&#x27;: [2, 3, 4, 5, 10], &#x27;kernel&#x27;: [&#x27;poly&#x27;]},\n",
       "                         {&#x27;kernel&#x27;: [&#x27;rbf&#x27;]}, {&#x27;kernel&#x27;: [&#x27;sigmoid&#x27;]}],\n",
       "             scoring=&#x27;accuracy&#x27;)</pre><b>In a Jupyter environment, please rerun this cell to show the HTML representation or trust the notebook. <br />On GitHub, the HTML representation is unable to render, please try loading this page with nbviewer.org.</b></div><div class=\"sk-container\" hidden><div class=\"sk-item sk-dashed-wrapped\"><div class=\"sk-label-container\"><div class=\"sk-label sk-toggleable\"><input class=\"sk-toggleable__control sk-hidden--visually\" id=\"sk-estimator-id-19\" type=\"checkbox\" ><label for=\"sk-estimator-id-19\" class=\"sk-toggleable__label sk-toggleable__label-arrow\">GridSearchCV</label><div class=\"sk-toggleable__content\"><pre>GridSearchCV(cv=5, estimator=SVC(), n_jobs=-1,\n",
       "             param_grid=[{&#x27;kernel&#x27;: [&#x27;linear&#x27;]},\n",
       "                         {&#x27;degree&#x27;: [2, 3, 4, 5, 10], &#x27;kernel&#x27;: [&#x27;poly&#x27;]},\n",
       "                         {&#x27;kernel&#x27;: [&#x27;rbf&#x27;]}, {&#x27;kernel&#x27;: [&#x27;sigmoid&#x27;]}],\n",
       "             scoring=&#x27;accuracy&#x27;)</pre></div></div></div><div class=\"sk-parallel\"><div class=\"sk-parallel-item\"><div class=\"sk-item\"><div class=\"sk-label-container\"><div class=\"sk-label sk-toggleable\"><input class=\"sk-toggleable__control sk-hidden--visually\" id=\"sk-estimator-id-20\" type=\"checkbox\" ><label for=\"sk-estimator-id-20\" class=\"sk-toggleable__label sk-toggleable__label-arrow\">estimator: SVC</label><div class=\"sk-toggleable__content\"><pre>SVC()</pre></div></div></div><div class=\"sk-serial\"><div class=\"sk-item\"><div class=\"sk-estimator sk-toggleable\"><input class=\"sk-toggleable__control sk-hidden--visually\" id=\"sk-estimator-id-21\" type=\"checkbox\" ><label for=\"sk-estimator-id-21\" class=\"sk-toggleable__label sk-toggleable__label-arrow\">SVC</label><div class=\"sk-toggleable__content\"><pre>SVC()</pre></div></div></div></div></div></div></div></div></div></div>"
      ],
      "text/plain": [
       "GridSearchCV(cv=5, estimator=SVC(), n_jobs=-1,\n",
       "             param_grid=[{'kernel': ['linear']},\n",
       "                         {'degree': [2, 3, 4, 5, 10], 'kernel': ['poly']},\n",
       "                         {'kernel': ['rbf']}, {'kernel': ['sigmoid']}],\n",
       "             scoring='accuracy')"
      ]
     },
     "execution_count": 114,
     "metadata": {},
     "output_type": "execute_result"
    }
   ],
   "source": [
    "%%time\n",
    "svc = SVC()\n",
    "clf = GridSearchCV(svc, grid_params, scoring = 'accuracy', n_jobs=-1, cv=5)\n",
    "clf.fit(X_train, y_train)"
   ]
  },
  {
   "cell_type": "code",
   "execution_count": 117,
   "metadata": {},
   "outputs": [
    {
     "data": {
      "image/png": "[encoded data removed]",
      "text/plain": [
       "<Figure size 576x432 with 1 Axes>"
      ]
     },
     "metadata": {
      "needs_background": "light"
     },
     "output_type": "display_data"
    }
   ],
   "source": [
    "x_labels = []\n",
    "for config in clf.cv_results_['params']:\n",
    "    label = 'kernel: '+ config['kernel']\n",
    "    if config['kernel'] == 'poly': \n",
    "        label += \", degree: \"+str(config['degree'])\n",
    "    x_labels.append(label)\n",
    "\n",
    "plt.figure(figsize=(8,6))\n",
    "plt.title(\"Score para cada config do modelo\")\n",
    "plt.plot(x_labels, clf.cv_results_['mean_test_score'])\n",
    "plt.xticks(rotation = 70)\n",
    "plt.ylabel(\"Score (Acurácia)\")\n",
    "plt.show()"
   ]
  },
  {
   "cell_type": "markdown",
   "metadata": {},
   "source": [
    "O melhor modelo foi o com a seguinte configuração:"
   ]
  },
  {
   "cell_type": "code",
   "execution_count": 118,
   "metadata": {},
   "outputs": [
    {
     "data": {
      "text/plain": [
       "{'kernel': 'linear'}"
      ]
     },
     "execution_count": 118,
     "metadata": {},
     "output_type": "execute_result"
    }
   ],
   "source": [
    "clf.best_params_"
   ]
  },
  {
   "cell_type": "markdown",
   "metadata": {},
   "source": [
    "Com score de validação:"
   ]
  },
  {
   "cell_type": "code",
   "execution_count": 119,
   "metadata": {},
   "outputs": [
    {
     "data": {
      "text/plain": [
       "0.9502556791947547"
      ]
     },
     "execution_count": 119,
     "metadata": {},
     "output_type": "execute_result"
    }
   ],
   "source": [
    "clf.best_score_"
   ]
  },
  {
   "cell_type": "markdown",
   "metadata": {},
   "source": [
    "Um pouco surpreendente o resultado de que o melhor kernel para um problema com tantas features foi o linear. Inclusive, com um kernel polinomial, quanto maior o grau, pior o score do modelo."
   ]
  },
  {
   "cell_type": "markdown",
   "metadata": {},
   "source": [
    "## Testando o melhor modelo"
   ]
  },
  {
   "cell_type": "code",
   "execution_count": 120,
   "metadata": {},
   "outputs": [],
   "source": [
    "bestSvc = clf.best_estimator_\n",
    "y_pred = bestSvc.predict(X_test)"
   ]
  },
  {
   "cell_type": "code",
   "execution_count": 121,
   "metadata": {},
   "outputs": [
    {
     "name": "stdout",
     "output_type": "stream",
     "text": [
      "                precision    recall  f1-score   support\n",
      "\n",
      "     CONFIRMED      0.907     0.976     0.940       409\n",
      "FALSE POSITIVE      0.983     0.935     0.959       632\n",
      "\n",
      "      accuracy                          0.951      1041\n",
      "     macro avg      0.945     0.955     0.949      1041\n",
      "  weighted avg      0.953     0.951     0.951      1041\n",
      "\n"
     ]
    }
   ],
   "source": [
    "print(classification_report(y_test, y_pred, digits=3))\n",
    "models_scores[model_name] = {'acc': accuracy_score(y_test, y_pred)}"
   ]
  },
  {
   "cell_type": "code",
   "execution_count": 122,
   "metadata": {},
   "outputs": [
    {
     "data": {
      "image/png": "[encoded data removed]",
      "text/plain": [
       "<Figure size 432x288 with 2 Axes>"
      ]
     },
     "metadata": {
      "needs_background": "light"
     },
     "output_type": "display_data"
    }
   ],
   "source": [
    "plotConfusionMatrix(y_test, y_pred, model_name, models_scores)"
   ]
  },
  {
   "cell_type": "code",
   "execution_count": 123,
   "metadata": {},
   "outputs": [
    {
     "data": {
      "image/png": "[encoded data removed]",
      "text/plain": [
       "<Figure size 576x432 with 1 Axes>"
      ]
     },
     "metadata": {
      "needs_background": "light"
     },
     "output_type": "display_data"
    }
   ],
   "source": [
    "fpr, tpr, thresholds = roc_curve(toOnesAndZeros(y_test), toOnesAndZeros(y_pred))\n",
    "plotROC(fpr, tpr, model_name, models_scores)"
   ]
  },
  {
   "cell_type": "code",
   "execution_count": 124,
   "metadata": {},
   "outputs": [
    {
     "data": {
      "text/html": [
       "<div>\n",
       "<style scoped>\n",
       "    .dataframe tbody tr th:only-of-type {\n",
       "        vertical-align: middle;\n",
       "    }\n",
       "\n",
       "    .dataframe tbody tr th {\n",
       "        vertical-align: top;\n",
       "    }\n",
       "\n",
       "    .dataframe thead th {\n",
       "        text-align: right;\n",
       "    }\n",
       "</style>\n",
       "<table border=\"1\" class=\"dataframe\">\n",
       "  <thead>\n",
       "    <tr style=\"text-align: right;\">\n",
       "      <th></th>\n",
       "      <th>acc</th>\n",
       "      <th>confirmed_acc</th>\n",
       "      <th>false_positive_acc</th>\n",
       "      <th>roc area</th>\n",
       "    </tr>\n",
       "  </thead>\n",
       "  <tbody>\n",
       "    <tr>\n",
       "      <th>naive_bayes</th>\n",
       "      <td>0.908742</td>\n",
       "      <td>395</td>\n",
       "      <td>551</td>\n",
       "      <td>0.918803</td>\n",
       "    </tr>\n",
       "    <tr>\n",
       "      <th>decision_tree</th>\n",
       "      <td>0.953890</td>\n",
       "      <td>388</td>\n",
       "      <td>605</td>\n",
       "      <td>0.952967</td>\n",
       "    </tr>\n",
       "    <tr>\n",
       "      <th>svc</th>\n",
       "      <td>0.951009</td>\n",
       "      <td>399</td>\n",
       "      <td>591</td>\n",
       "      <td>0.955338</td>\n",
       "    </tr>\n",
       "  </tbody>\n",
       "</table>\n",
       "</div>"
      ],
      "text/plain": [
       "                    acc  confirmed_acc  false_positive_acc  roc area\n",
       "naive_bayes    0.908742            395                 551  0.918803\n",
       "decision_tree  0.953890            388                 605  0.952967\n",
       "svc            0.951009            399                 591  0.955338"
      ]
     },
     "execution_count": 124,
     "metadata": {},
     "output_type": "execute_result"
    }
   ],
   "source": [
    "pd.DataFrame.from_dict(models_scores, orient='index')"
   ]
  },
  {
   "cell_type": "markdown",
   "metadata": {},
   "source": [
    "Pelos dados até agora, podemos perceber que o svc linear possui uma acurácia pior mas muito parecida com a árvore de decisão. Ele conseguiu classificar corretamente mais casos de CONFIRMED do que o naive bayes mas foi pior do que a árvore de decisão para o caso de FALSE POSITIVEs."
   ]
  },
  {
   "cell_type": "markdown",
   "metadata": {},
   "source": [
    "# K-NN"
   ]
  },
  {
   "cell_type": "code",
   "execution_count": 143,
   "metadata": {},
   "outputs": [],
   "source": [
    "from sklearn.neighbors import KNeighborsClassifier\n",
    "\n",
    "model_name = 'knn'\n",
    "\n",
    "grid_params = {\n",
    "    'n_neighbors': range(1, 16)\n",
    "}"
   ]
  },
  {
   "cell_type": "markdown",
   "metadata": {},
   "source": [
    "Também usaremos o Grid Search para testar o melhor modelo de K-NN variando a quantidade de vizinhos. Não será utilizado o [RadiusNeighborsClassifier](https://scikit-learn.org/stable/modules/generated/sklearn.neighbors.RadiusNeighborsClassifier.html) já que, como a própria [documentação do sklearn explica](https://scikit-learn.org/stable/modules/neighbors.html#nearest-neighbors-classification): *For high-dimensional parameter spaces, this method becomes less effective due to the so-called 'curse of dimensionality'*. Imagino que 41 dimensões de features sejam bastante dimensões. "
   ]
  },
  {
   "cell_type": "code",
   "execution_count": 144,
   "metadata": {},
   "outputs": [
    {
     "name": "stdout",
     "output_type": "stream",
     "text": [
      "CPU times: total: 188 ms\n",
      "Wall time: 2.09 s\n"
     ]
    },
    {
     "data": {
      "text/html": [
       "<style>#sk-container-id-12 {color: black;background-color: white;}#sk-container-id-12 pre{padding: 0;}#sk-container-id-12 div.sk-toggleable {background-color: white;}#sk-container-id-12 label.sk-toggleable__label {cursor: pointer;display: block;width: 100%;margin-bottom: 0;padding: 0.3em;box-sizing: border-box;text-align: center;}#sk-container-id-12 label.sk-toggleable__label-arrow:before {content: \"▸\";float: left;margin-right: 0.25em;color: #696969;}#sk-container-id-12 label.sk-toggleable__label-arrow:hover:before {color: black;}#sk-container-id-12 div.sk-estimator:hover label.sk-toggleable__label-arrow:before {color: black;}#sk-container-id-12 div.sk-toggleable__content {max-height: 0;max-width: 0;overflow: hidden;text-align: left;background-color: #f0f8ff;}#sk-container-id-12 div.sk-toggleable__content pre {margin: 0.2em;color: black;border-radius: 0.25em;background-color: #f0f8ff;}#sk-container-id-12 input.sk-toggleable__control:checked~div.sk-toggleable__content {max-height: 200px;max-width: 100%;overflow: auto;}#sk-container-id-12 input.sk-toggleable__control:checked~label.sk-toggleable__label-arrow:before {content: \"▾\";}#sk-container-id-12 div.sk-estimator input.sk-toggleable__control:checked~label.sk-toggleable__label {background-color: #d4ebff;}#sk-container-id-12 div.sk-label input.sk-toggleable__control:checked~label.sk-toggleable__label {background-color: #d4ebff;}#sk-container-id-12 input.sk-hidden--visually {border: 0;clip: rect(1px 1px 1px 1px);clip: rect(1px, 1px, 1px, 1px);height: 1px;margin: -1px;overflow: hidden;padding: 0;position: absolute;width: 1px;}#sk-container-id-12 div.sk-estimator {font-family: monospace;background-color: #f0f8ff;border: 1px dotted black;border-radius: 0.25em;box-sizing: border-box;margin-bottom: 0.5em;}#sk-container-id-12 div.sk-estimator:hover {background-color: #d4ebff;}#sk-container-id-12 div.sk-parallel-item::after {content: \"\";width: 100%;border-bottom: 1px solid gray;flex-grow: 1;}#sk-container-id-12 div.sk-label:hover label.sk-toggleable__label {background-color: #d4ebff;}#sk-container-id-12 div.sk-serial::before {content: \"\";position: absolute;border-left: 1px solid gray;box-sizing: border-box;top: 0;bottom: 0;left: 50%;z-index: 0;}#sk-container-id-12 div.sk-serial {display: flex;flex-direction: column;align-items: center;background-color: white;padding-right: 0.2em;padding-left: 0.2em;position: relative;}#sk-container-id-12 div.sk-item {position: relative;z-index: 1;}#sk-container-id-12 div.sk-parallel {display: flex;align-items: stretch;justify-content: center;background-color: white;position: relative;}#sk-container-id-12 div.sk-item::before, #sk-container-id-12 div.sk-parallel-item::before {content: \"\";position: absolute;border-left: 1px solid gray;box-sizing: border-box;top: 0;bottom: 0;left: 50%;z-index: -1;}#sk-container-id-12 div.sk-parallel-item {display: flex;flex-direction: column;z-index: 1;position: relative;background-color: white;}#sk-container-id-12 div.sk-parallel-item:first-child::after {align-self: flex-end;width: 50%;}#sk-container-id-12 div.sk-parallel-item:last-child::after {align-self: flex-start;width: 50%;}#sk-container-id-12 div.sk-parallel-item:only-child::after {width: 0;}#sk-container-id-12 div.sk-dashed-wrapped {border: 1px dashed gray;margin: 0 0.4em 0.5em 0.4em;box-sizing: border-box;padding-bottom: 0.4em;background-color: white;}#sk-container-id-12 div.sk-label label {font-family: monospace;font-weight: bold;display: inline-block;line-height: 1.2em;}#sk-container-id-12 div.sk-label-container {text-align: center;}#sk-container-id-12 div.sk-container {/* jupyter's `normalize.less` sets `[hidden] { display: none; }` but bootstrap.min.css set `[hidden] { display: none !important; }` so we also need the `!important` here to be able to override the default hidden behavior on the sphinx rendered scikit-learn.org. See: https://github.com/scikit-learn/scikit-learn/issues/21755 */display: inline-block !important;position: relative;}#sk-container-id-12 div.sk-text-repr-fallback {display: none;}</style><div id=\"sk-container-id-12\" class=\"sk-top-container\"><div class=\"sk-text-repr-fallback\"><pre>GridSearchCV(cv=5, estimator=KNeighborsClassifier(), n_jobs=-1,\n",
       "             param_grid={&#x27;n_neighbors&#x27;: range(1, 16)}, scoring=&#x27;accuracy&#x27;)</pre><b>In a Jupyter environment, please rerun this cell to show the HTML representation or trust the notebook. <br />On GitHub, the HTML representation is unable to render, please try loading this page with nbviewer.org.</b></div><div class=\"sk-container\" hidden><div class=\"sk-item sk-dashed-wrapped\"><div class=\"sk-label-container\"><div class=\"sk-label sk-toggleable\"><input class=\"sk-toggleable__control sk-hidden--visually\" id=\"sk-estimator-id-34\" type=\"checkbox\" ><label for=\"sk-estimator-id-34\" class=\"sk-toggleable__label sk-toggleable__label-arrow\">GridSearchCV</label><div class=\"sk-toggleable__content\"><pre>GridSearchCV(cv=5, estimator=KNeighborsClassifier(), n_jobs=-1,\n",
       "             param_grid={&#x27;n_neighbors&#x27;: range(1, 16)}, scoring=&#x27;accuracy&#x27;)</pre></div></div></div><div class=\"sk-parallel\"><div class=\"sk-parallel-item\"><div class=\"sk-item\"><div class=\"sk-label-container\"><div class=\"sk-label sk-toggleable\"><input class=\"sk-toggleable__control sk-hidden--visually\" id=\"sk-estimator-id-35\" type=\"checkbox\" ><label for=\"sk-estimator-id-35\" class=\"sk-toggleable__label sk-toggleable__label-arrow\">estimator: KNeighborsClassifier</label><div class=\"sk-toggleable__content\"><pre>KNeighborsClassifier()</pre></div></div></div><div class=\"sk-serial\"><div class=\"sk-item\"><div class=\"sk-estimator sk-toggleable\"><input class=\"sk-toggleable__control sk-hidden--visually\" id=\"sk-estimator-id-36\" type=\"checkbox\" ><label for=\"sk-estimator-id-36\" class=\"sk-toggleable__label sk-toggleable__label-arrow\">KNeighborsClassifier</label><div class=\"sk-toggleable__content\"><pre>KNeighborsClassifier()</pre></div></div></div></div></div></div></div></div></div></div>"
      ],
      "text/plain": [
       "GridSearchCV(cv=5, estimator=KNeighborsClassifier(), n_jobs=-1,\n",
       "             param_grid={'n_neighbors': range(1, 16)}, scoring='accuracy')"
      ]
     },
     "execution_count": 144,
     "metadata": {},
     "output_type": "execute_result"
    }
   ],
   "source": [
    "%%time\n",
    "knn = KNeighborsClassifier()\n",
    "clf = GridSearchCV(knn, grid_params, scoring = 'accuracy', n_jobs=-1, cv=5)\n",
    "clf.fit(X_train, y_train)"
   ]
  },
  {
   "cell_type": "code",
   "execution_count": 145,
   "metadata": {},
   "outputs": [
    {
     "data": {
      "image/png": "[encoded data removed]",
      "text/plain": [
       "<Figure size 576x432 with 1 Axes>"
      ]
     },
     "metadata": {
      "needs_background": "light"
     },
     "output_type": "display_data"
    }
   ],
   "source": [
    "x_labels = []\n",
    "for config in clf.cv_results_['params']:\n",
    "    label = 'neighboors: '+str(config['n_neighbors'])\n",
    "    x_labels.append(label)\n",
    "\n",
    "plt.figure(figsize=(8,6))\n",
    "plt.title(\"Score para cada config do modelo\")\n",
    "plt.plot(x_labels, clf.cv_results_['mean_test_score'])\n",
    "plt.xticks(rotation = 70)\n",
    "plt.ylabel(\"Score (Acurácia)\")\n",
    "plt.show()"
   ]
  },
  {
   "cell_type": "markdown",
   "metadata": {},
   "source": [
    "O melhor modelo foi o com a configuração:"
   ]
  },
  {
   "cell_type": "code",
   "execution_count": 146,
   "metadata": {},
   "outputs": [
    {
     "data": {
      "text/plain": [
       "{'n_neighbors': 3}"
      ]
     },
     "execution_count": 146,
     "metadata": {},
     "output_type": "execute_result"
    }
   ],
   "source": [
    "clf.best_params_"
   ]
  },
  {
   "cell_type": "markdown",
   "metadata": {},
   "source": [
    "E obteve score de:"
   ]
  },
  {
   "cell_type": "code",
   "execution_count": 147,
   "metadata": {},
   "outputs": [
    {
     "data": {
      "text/plain": [
       "0.891376454427925"
      ]
     },
     "execution_count": 147,
     "metadata": {},
     "output_type": "execute_result"
    }
   ],
   "source": [
    "clf.best_score_"
   ]
  },
  {
   "cell_type": "markdown",
   "metadata": {},
   "source": [
    "Pelo jeito, usando um pequeno número de vizinhos, 3, o modelo foi melhor. Isso mostra que os dados com classificações diferentes não se misturam muito. Entretanto, seu score de validação foi o menor até agora."
   ]
  },
  {
   "cell_type": "markdown",
   "metadata": {},
   "source": [
    "## Testando o melhor modelo"
   ]
  },
  {
   "cell_type": "code",
   "execution_count": 155,
   "metadata": {},
   "outputs": [],
   "source": [
    "bestKnn = clf.best_estimator_\n",
    "y_pred = bestKnn.predict(X_test)"
   ]
  },
  {
   "cell_type": "code",
   "execution_count": 156,
   "metadata": {},
   "outputs": [
    {
     "name": "stdout",
     "output_type": "stream",
     "text": [
      "                precision    recall  f1-score   support\n",
      "\n",
      "     CONFIRMED      0.819     0.976     0.891       409\n",
      "FALSE POSITIVE      0.982     0.861     0.917       632\n",
      "\n",
      "      accuracy                          0.906      1041\n",
      "     macro avg      0.901     0.918     0.904      1041\n",
      "  weighted avg      0.918     0.906     0.907      1041\n",
      "\n"
     ]
    }
   ],
   "source": [
    "print(classification_report(y_test, y_pred, digits=3))\n",
    "models_scores[model_name] = {'acc': accuracy_score(y_test, y_pred)}"
   ]
  },
  {
   "cell_type": "code",
   "execution_count": 157,
   "metadata": {},
   "outputs": [
    {
     "data": {
      "image/png": "[encoded data removed]",
      "text/plain": [
       "<Figure size 432x288 with 2 Axes>"
      ]
     },
     "metadata": {
      "needs_background": "light"
     },
     "output_type": "display_data"
    }
   ],
   "source": [
    "plotConfusionMatrix(y_test, y_pred, model_name, models_scores)"
   ]
  },
  {
   "cell_type": "code",
   "execution_count": 158,
   "metadata": {},
   "outputs": [
    {
     "data": {
      "image/png": "[encoded data removed]",
      "text/plain": [
       "<Figure size 576x432 with 1 Axes>"
      ]
     },
     "metadata": {
      "needs_background": "light"
     },
     "output_type": "display_data"
    }
   ],
   "source": [
    "fpr, tpr, thresholds = roc_curve(toOnesAndZeros(y_test), toOnesAndZeros(y_pred))\n",
    "plotROC(fpr, tpr, model_name, models_scores)"
   ]
  },
  {
   "cell_type": "code",
   "execution_count": 159,
   "metadata": {},
   "outputs": [
    {
     "data": {
      "text/html": [
       "<div>\n",
       "<style scoped>\n",
       "    .dataframe tbody tr th:only-of-type {\n",
       "        vertical-align: middle;\n",
       "    }\n",
       "\n",
       "    .dataframe tbody tr th {\n",
       "        vertical-align: top;\n",
       "    }\n",
       "\n",
       "    .dataframe thead th {\n",
       "        text-align: right;\n",
       "    }\n",
       "</style>\n",
       "<table border=\"1\" class=\"dataframe\">\n",
       "  <thead>\n",
       "    <tr style=\"text-align: right;\">\n",
       "      <th></th>\n",
       "      <th>acc</th>\n",
       "      <th>confirmed_acc</th>\n",
       "      <th>false_positive_acc</th>\n",
       "      <th>roc area</th>\n",
       "    </tr>\n",
       "  </thead>\n",
       "  <tbody>\n",
       "    <tr>\n",
       "      <th>naive_bayes</th>\n",
       "      <td>0.908742</td>\n",
       "      <td>395</td>\n",
       "      <td>551</td>\n",
       "      <td>0.918803</td>\n",
       "    </tr>\n",
       "    <tr>\n",
       "      <th>decision_tree</th>\n",
       "      <td>0.953890</td>\n",
       "      <td>388</td>\n",
       "      <td>605</td>\n",
       "      <td>0.952967</td>\n",
       "    </tr>\n",
       "    <tr>\n",
       "      <th>svc</th>\n",
       "      <td>0.951009</td>\n",
       "      <td>399</td>\n",
       "      <td>591</td>\n",
       "      <td>0.955338</td>\n",
       "    </tr>\n",
       "    <tr>\n",
       "      <th>knn</th>\n",
       "      <td>0.905860</td>\n",
       "      <td>399</td>\n",
       "      <td>544</td>\n",
       "      <td>0.918155</td>\n",
       "    </tr>\n",
       "  </tbody>\n",
       "</table>\n",
       "</div>"
      ],
      "text/plain": [
       "                    acc  confirmed_acc  false_positive_acc  roc area\n",
       "naive_bayes    0.908742            395                 551  0.918803\n",
       "decision_tree  0.953890            388                 605  0.952967\n",
       "svc            0.951009            399                 591  0.955338\n",
       "knn            0.905860            399                 544  0.918155"
      ]
     },
     "execution_count": 159,
     "metadata": {},
     "output_type": "execute_result"
    }
   ],
   "source": [
    "pd.DataFrame.from_dict(models_scores, orient='index')"
   ]
  },
  {
   "cell_type": "markdown",
   "metadata": {},
   "source": [
    "Aparentemente, o melhor modelo de knn escolhido é o que performa pior dentre os modelos já considerados com acurácia de 0.905. Ele até conseguiu igualar a identificação de CONFIRMEDs com o SVC, mas foi o pior para identificar FALSE POSITIVEs."
   ]
  },
  {
   "cell_type": "code",
   "execution_count": null,
   "metadata": {},
   "outputs": [],
   "source": []
  }
 ],
 "metadata": {
  "kernelspec": {
   "display_name": "venv",
   "language": "python",
   "name": "venv"
  },
  "language_info": {
   "codemirror_mode": {
    "name": "ipython",
    "version": 3
   },
   "file_extension": ".py",
   "mimetype": "text/x-python",
   "name": "python",
   "nbconvert_exporter": "python",
   "pygments_lexer": "ipython3",
   "version": "3.8.3"
  }
 },
 "nbformat": 4,
 "nbformat_minor": 4
}
